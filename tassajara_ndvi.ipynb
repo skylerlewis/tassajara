{
  "nbformat": 4,
  "nbformat_minor": 0,
  "metadata": {
    "colab": {
      "provenance": [],
      "history_visible": true,
      "authorship_tag": "ABX9TyN4etmLGQ5XukQjlk0/xVHb",
      "include_colab_link": true
    },
    "kernelspec": {
      "name": "python3",
      "display_name": "Python 3"
    },
    "language_info": {
      "name": "python"
    },
    "widgets": {
      "application/vnd.jupyter.widget-state+json": {
        "2ee34f24041b42c594fc8516c6b36e97": {
          "model_module": "jupyter-leaflet",
          "model_name": "LeafletMapModel",
          "model_module_version": "^0.17",
          "state": {
            "_dom_classes": [],
            "_model_module": "jupyter-leaflet",
            "_model_module_version": "^0.17",
            "_model_name": "LeafletMapModel",
            "_view_count": null,
            "_view_module": "jupyter-leaflet",
            "_view_module_version": "^0.17",
            "_view_name": "LeafletMapView",
            "bottom": 1622439,
            "bounce_at_zoom_limits": true,
            "box_zoom": true,
            "center": [
              37.71020584243071,
              -121.87714314170935
            ],
            "close_popup_on_click": true,
            "controls": [
              "IPY_MODEL_163154591a9f4b78a480f6e65307e0ea",
              "IPY_MODEL_d5a148cc6d6948f49224b56b6144bf62",
              "IPY_MODEL_4153324cc24e40ea91c3d34666a6458c",
              "IPY_MODEL_32185d2e802347279c765060fea4c261",
              "IPY_MODEL_700d5e09681a455eac0ab8cd0420a9c7",
              "IPY_MODEL_917fb8e263e840edb28c32d2ad19a8f3",
              "IPY_MODEL_8d925f01eab94742821727be5b65b711",
              "IPY_MODEL_ef5143ddd5f14e04b810d2c63a128060"
            ],
            "crs": {
              "name": "EPSG3857",
              "custom": false
            },
            "default_style": "IPY_MODEL_c5e670e80038422891c49aba6a607183",
            "double_click_zoom": true,
            "dragging": true,
            "dragging_style": "IPY_MODEL_00981075aa1e403ab25495a9b823e01b",
            "east": -121.82421684265138,
            "fullscreen": false,
            "inertia": true,
            "inertia_deceleration": 3000,
            "inertia_max_speed": 1500,
            "interpolation": "bilinear",
            "keyboard": true,
            "keyboard_pan_offset": 80,
            "keyboard_zoom_offset": 1,
            "layers": [
              "IPY_MODEL_718e897cee564a7d9f21ac9aeabe8b7b",
              "IPY_MODEL_0fafa0b223a14c289f21e75498b284ef",
              "IPY_MODEL_c23e90fa54b444d2a8f937afa6629e44"
            ],
            "layout": "IPY_MODEL_bc151e75701e4595ba3c04a06a3386d1",
            "left": 676564,
            "max_zoom": 24,
            "min_zoom": null,
            "modisdate": "2023-03-08",
            "north": 37.73060662898451,
            "options": [
              "bounce_at_zoom_limits",
              "box_zoom",
              "center",
              "close_popup_on_click",
              "double_click_zoom",
              "dragging",
              "fullscreen",
              "inertia",
              "inertia_deceleration",
              "inertia_max_speed",
              "interpolation",
              "keyboard",
              "keyboard_pan_offset",
              "keyboard_zoom_offset",
              "max_zoom",
              "min_zoom",
              "prefer_canvas",
              "scroll_wheel_zoom",
              "tap",
              "tap_tolerance",
              "touch_zoom",
              "world_copy_jump",
              "zoom",
              "zoom_animation_threshold",
              "zoom_delta",
              "zoom_snap"
            ],
            "panes": {},
            "prefer_canvas": false,
            "right": 677797,
            "scroll_wheel_zoom": true,
            "south": 37.689865501436806,
            "style": "IPY_MODEL_c5e670e80038422891c49aba6a607183",
            "tap": true,
            "tap_tolerance": 15,
            "top": 1621839,
            "touch_zoom": true,
            "west": -121.93004608154298,
            "window_url": "https://d0aard783g7-496ff2e9c6d22116-0-colab.googleusercontent.com/outputframe.html?vrz=colab-20230307-060233-RC01_514758488",
            "world_copy_jump": false,
            "zoom": 14,
            "zoom_animation_threshold": 4,
            "zoom_delta": 1,
            "zoom_snap": 1
          }
        },
        "163154591a9f4b78a480f6e65307e0ea": {
          "model_module": "jupyter-leaflet",
          "model_name": "LeafletWidgetControlModel",
          "model_module_version": "^0.17",
          "state": {
            "_model_module": "jupyter-leaflet",
            "_model_module_version": "^0.17",
            "_model_name": "LeafletWidgetControlModel",
            "_view_count": null,
            "_view_module": "jupyter-leaflet",
            "_view_module_version": "^0.17",
            "_view_name": "LeafletWidgetControlView",
            "max_height": null,
            "max_width": null,
            "min_height": null,
            "min_width": null,
            "options": [
              "position",
              "transparent_bg"
            ],
            "position": "topleft",
            "transparent_bg": false,
            "widget": "IPY_MODEL_5d7df7d3f4894729b78e65206610b937"
          }
        },
        "d5a148cc6d6948f49224b56b6144bf62": {
          "model_module": "jupyter-leaflet",
          "model_name": "LeafletZoomControlModel",
          "model_module_version": "^0.17",
          "state": {
            "_model_module": "jupyter-leaflet",
            "_model_module_version": "^0.17",
            "_model_name": "LeafletZoomControlModel",
            "_view_count": null,
            "_view_module": "jupyter-leaflet",
            "_view_module_version": "^0.17",
            "_view_name": "LeafletZoomControlView",
            "options": [
              "position",
              "zoom_in_text",
              "zoom_in_title",
              "zoom_out_text",
              "zoom_out_title"
            ],
            "position": "topleft",
            "zoom_in_text": "+",
            "zoom_in_title": "Zoom in",
            "zoom_out_text": "-",
            "zoom_out_title": "Zoom out"
          }
        },
        "4153324cc24e40ea91c3d34666a6458c": {
          "model_module": "jupyter-leaflet",
          "model_name": "LeafletScaleControlModel",
          "model_module_version": "^0.17",
          "state": {
            "_model_module": "jupyter-leaflet",
            "_model_module_version": "^0.17",
            "_model_name": "LeafletScaleControlModel",
            "_view_count": null,
            "_view_module": "jupyter-leaflet",
            "_view_module_version": "^0.17",
            "_view_name": "LeafletScaleControlView",
            "imperial": true,
            "max_width": 100,
            "metric": true,
            "options": [
              "imperial",
              "max_width",
              "metric",
              "position",
              "update_when_idle"
            ],
            "position": "bottomleft",
            "update_when_idle": false
          }
        },
        "32185d2e802347279c765060fea4c261": {
          "model_module": "jupyter-leaflet",
          "model_name": "LeafletFullScreenControlModel",
          "model_module_version": "^0.17",
          "state": {
            "_model_module": "jupyter-leaflet",
            "_model_module_version": "^0.17",
            "_model_name": "LeafletFullScreenControlModel",
            "_view_count": null,
            "_view_module": "jupyter-leaflet",
            "_view_module_version": "^0.17",
            "_view_name": "LeafletFullScreenControlView",
            "options": [
              "position"
            ],
            "position": "topleft"
          }
        },
        "700d5e09681a455eac0ab8cd0420a9c7": {
          "model_module": "jupyter-leaflet",
          "model_name": "LeafletMeasureControlModel",
          "model_module_version": "^0.17",
          "state": {
            "_custom_units": {},
            "_model_module": "jupyter-leaflet",
            "_model_module_version": "^0.17",
            "_model_name": "LeafletMeasureControlModel",
            "_view_count": null,
            "_view_module": "jupyter-leaflet",
            "_view_module_version": "^0.17",
            "_view_name": "LeafletMeasureControlView",
            "active_color": "orange",
            "capture_z_index": 10000,
            "completed_color": "#C8F2BE",
            "options": [
              "active_color",
              "capture_z_index",
              "completed_color",
              "popup_options",
              "position",
              "primary_area_unit",
              "primary_length_unit",
              "secondary_area_unit",
              "secondary_length_unit"
            ],
            "popup_options": {
              "className": "leaflet-measure-resultpopup",
              "autoPanPadding": [
                10,
                10
              ]
            },
            "position": "bottomleft",
            "primary_area_unit": "acres",
            "primary_length_unit": "kilometers",
            "secondary_area_unit": null,
            "secondary_length_unit": null
          }
        },
        "917fb8e263e840edb28c32d2ad19a8f3": {
          "model_module": "jupyter-leaflet",
          "model_name": "LeafletAttributionControlModel",
          "model_module_version": "^0.17",
          "state": {
            "_model_module": "jupyter-leaflet",
            "_model_module_version": "^0.17",
            "_model_name": "LeafletAttributionControlModel",
            "_view_count": null,
            "_view_module": "jupyter-leaflet",
            "_view_module_version": "^0.17",
            "_view_name": "LeafletAttributionControlView",
            "options": [
              "position",
              "prefix"
            ],
            "position": "bottomright",
            "prefix": "ipyleaflet"
          }
        },
        "8d925f01eab94742821727be5b65b711": {
          "model_module": "jupyter-leaflet",
          "model_name": "LeafletDrawControlModel",
          "model_module_version": "^0.17",
          "state": {
            "_model_module": "jupyter-leaflet",
            "_model_module_version": "^0.17",
            "_model_name": "LeafletDrawControlModel",
            "_view_count": null,
            "_view_module": "jupyter-leaflet",
            "_view_module_version": "^0.17",
            "_view_name": "LeafletDrawControlView",
            "circle": {
              "shapeOptions": {
                "color": "#3388ff"
              }
            },
            "circlemarker": {},
            "data": [],
            "edit": true,
            "marker": {
              "shapeOptions": {
                "color": "#3388ff"
              }
            },
            "options": [
              "position"
            ],
            "polygon": {
              "shapeOptions": {}
            },
            "polyline": {
              "shapeOptions": {}
            },
            "position": "topleft",
            "rectangle": {
              "shapeOptions": {
                "color": "#3388ff"
              }
            },
            "remove": true
          }
        },
        "ef5143ddd5f14e04b810d2c63a128060": {
          "model_module": "jupyter-leaflet",
          "model_name": "LeafletWidgetControlModel",
          "model_module_version": "^0.17",
          "state": {
            "_model_module": "jupyter-leaflet",
            "_model_module_version": "^0.17",
            "_model_name": "LeafletWidgetControlModel",
            "_view_count": null,
            "_view_module": "jupyter-leaflet",
            "_view_module_version": "^0.17",
            "_view_name": "LeafletWidgetControlView",
            "max_height": null,
            "max_width": null,
            "min_height": null,
            "min_width": null,
            "options": [
              "position",
              "transparent_bg"
            ],
            "position": "topright",
            "transparent_bg": false,
            "widget": "IPY_MODEL_7ef533fc1c10413194953f735994ed28"
          }
        },
        "c5e670e80038422891c49aba6a607183": {
          "model_module": "jupyter-leaflet",
          "model_name": "LeafletMapStyleModel",
          "model_module_version": "^0.17",
          "state": {
            "_model_module": "jupyter-leaflet",
            "_model_module_version": "^0.17",
            "_model_name": "LeafletMapStyleModel",
            "_view_count": null,
            "_view_module": "@jupyter-widgets/base",
            "_view_module_version": "1.2.0",
            "_view_name": "StyleView",
            "cursor": "grab"
          }
        },
        "00981075aa1e403ab25495a9b823e01b": {
          "model_module": "jupyter-leaflet",
          "model_name": "LeafletMapStyleModel",
          "model_module_version": "^0.17",
          "state": {
            "_model_module": "jupyter-leaflet",
            "_model_module_version": "^0.17",
            "_model_name": "LeafletMapStyleModel",
            "_view_count": null,
            "_view_module": "@jupyter-widgets/base",
            "_view_module_version": "1.2.0",
            "_view_name": "StyleView",
            "cursor": "move"
          }
        },
        "718e897cee564a7d9f21ac9aeabe8b7b": {
          "model_module": "jupyter-leaflet",
          "model_name": "LeafletTileLayerModel",
          "model_module_version": "^0.17",
          "state": {
            "_model_module": "jupyter-leaflet",
            "_model_module_version": "^0.17",
            "_model_name": "LeafletTileLayerModel",
            "_view_count": null,
            "_view_module": "jupyter-leaflet",
            "_view_module_version": "^0.17",
            "_view_name": "LeafletTileLayerView",
            "attribution": "&copy; <a href=\"https://www.openstreetmap.org/copyright\">OpenStreetMap</a> contributors",
            "base": true,
            "bottom": true,
            "bounds": null,
            "detect_retina": false,
            "loading": false,
            "max_native_zoom": null,
            "max_zoom": 19,
            "min_native_zoom": null,
            "min_zoom": 1,
            "name": "OpenStreetMap.Mapnik",
            "no_wrap": false,
            "opacity": 1,
            "options": [
              "attribution",
              "bounds",
              "detect_retina",
              "max_native_zoom",
              "max_zoom",
              "min_native_zoom",
              "min_zoom",
              "no_wrap",
              "tile_size",
              "tms",
              "zoom_offset"
            ],
            "pane": "",
            "popup": null,
            "popup_max_height": null,
            "popup_max_width": 300,
            "popup_min_width": 50,
            "show_loading": false,
            "subitems": [],
            "tile_size": 256,
            "tms": false,
            "url": "https://tile.openstreetmap.org/{z}/{x}/{y}.png",
            "visible": true,
            "zoom_offset": 0
          }
        },
        "0fafa0b223a14c289f21e75498b284ef": {
          "model_module": "jupyter-leaflet",
          "model_name": "LeafletTileLayerModel",
          "model_module_version": "^0.17",
          "state": {
            "_model_module": "jupyter-leaflet",
            "_model_module_version": "^0.17",
            "_model_name": "LeafletTileLayerModel",
            "_view_count": null,
            "_view_module": "jupyter-leaflet",
            "_view_module_version": "^0.17",
            "_view_name": "LeafletTileLayerView",
            "attribution": "Google",
            "base": false,
            "bottom": true,
            "bounds": null,
            "detect_retina": false,
            "loading": false,
            "max_native_zoom": null,
            "max_zoom": 22,
            "min_native_zoom": null,
            "min_zoom": 0,
            "name": "Google Maps",
            "no_wrap": false,
            "opacity": 1,
            "options": [
              "attribution",
              "bounds",
              "detect_retina",
              "max_native_zoom",
              "max_zoom",
              "min_native_zoom",
              "min_zoom",
              "no_wrap",
              "tile_size",
              "tms",
              "zoom_offset"
            ],
            "pane": "",
            "popup": null,
            "popup_max_height": null,
            "popup_max_width": 300,
            "popup_min_width": 50,
            "show_loading": false,
            "subitems": [],
            "tile_size": 256,
            "tms": false,
            "url": "https://mt1.google.com/vt/lyrs=m&x={x}&y={y}&z={z}",
            "visible": true,
            "zoom_offset": 0
          }
        },
        "c23e90fa54b444d2a8f937afa6629e44": {
          "model_module": "jupyter-leaflet",
          "model_name": "LeafletTileLayerModel",
          "model_module_version": "^0.17",
          "state": {
            "_model_module": "jupyter-leaflet",
            "_model_module_version": "^0.17",
            "_model_name": "LeafletTileLayerModel",
            "_view_count": null,
            "_view_module": "jupyter-leaflet",
            "_view_module_version": "^0.17",
            "_view_name": "LeafletTileLayerView",
            "attribution": "Google Earth Engine",
            "base": false,
            "bottom": true,
            "bounds": null,
            "detect_retina": false,
            "loading": false,
            "max_native_zoom": null,
            "max_zoom": 24,
            "min_native_zoom": null,
            "min_zoom": 0,
            "name": "perimeter",
            "no_wrap": false,
            "opacity": 1,
            "options": [
              "attribution",
              "bounds",
              "detect_retina",
              "max_native_zoom",
              "max_zoom",
              "min_native_zoom",
              "min_zoom",
              "no_wrap",
              "tile_size",
              "tms",
              "zoom_offset"
            ],
            "pane": "",
            "popup": null,
            "popup_max_height": null,
            "popup_max_width": 300,
            "popup_min_width": 50,
            "show_loading": false,
            "subitems": [],
            "tile_size": 256,
            "tms": false,
            "url": "https://earthengine.googleapis.com/v1alpha/projects/earthengine-legacy/maps/9eea94840fe2a4ada2b5fa7894f4ca83-9b62d26ead7654bbc0c95880ffa09892/tiles/{z}/{x}/{y}",
            "visible": true,
            "zoom_offset": 0
          }
        },
        "bc151e75701e4595ba3c04a06a3386d1": {
          "model_module": "@jupyter-widgets/base",
          "model_name": "LayoutModel",
          "model_module_version": "1.2.0",
          "state": {
            "_model_module": "@jupyter-widgets/base",
            "_model_module_version": "1.2.0",
            "_model_name": "LayoutModel",
            "_view_count": null,
            "_view_module": "@jupyter-widgets/base",
            "_view_module_version": "1.2.0",
            "_view_name": "LayoutView",
            "align_content": null,
            "align_items": null,
            "align_self": null,
            "border": null,
            "bottom": null,
            "display": null,
            "flex": null,
            "flex_flow": null,
            "grid_area": null,
            "grid_auto_columns": null,
            "grid_auto_flow": null,
            "grid_auto_rows": null,
            "grid_column": null,
            "grid_gap": null,
            "grid_row": null,
            "grid_template_areas": null,
            "grid_template_columns": null,
            "grid_template_rows": null,
            "height": "600px",
            "justify_content": null,
            "justify_items": null,
            "left": null,
            "margin": null,
            "max_height": null,
            "max_width": null,
            "min_height": null,
            "min_width": null,
            "object_fit": null,
            "object_position": null,
            "order": null,
            "overflow": null,
            "overflow_x": null,
            "overflow_y": null,
            "padding": null,
            "right": null,
            "top": null,
            "visibility": null,
            "width": null
          }
        },
        "61eefb0aaccd4c20a6d152c5b40d941d": {
          "model_module": "jupyter-leaflet",
          "model_name": "LeafletMapStyleModel",
          "model_module_version": "^0.17",
          "state": {
            "_model_module": "jupyter-leaflet",
            "_model_module_version": "^0.17",
            "_model_name": "LeafletMapStyleModel",
            "_view_count": null,
            "_view_module": "@jupyter-widgets/base",
            "_view_module_version": "1.2.0",
            "_view_name": "StyleView",
            "cursor": "grab"
          }
        },
        "5d7df7d3f4894729b78e65206610b937": {
          "model_module": "@jupyter-widgets/controls",
          "model_name": "HBoxModel",
          "model_module_version": "1.5.0",
          "state": {
            "_dom_classes": [],
            "_model_module": "@jupyter-widgets/controls",
            "_model_module_version": "1.5.0",
            "_model_name": "HBoxModel",
            "_view_count": null,
            "_view_module": "@jupyter-widgets/controls",
            "_view_module_version": "1.5.0",
            "_view_name": "HBoxView",
            "box_style": "",
            "children": [
              "IPY_MODEL_1a86bfea89554f9da27afd35598ed047"
            ],
            "layout": "IPY_MODEL_a0a43de7af5143ed92bbcd3f409feadc"
          }
        },
        "7ef533fc1c10413194953f735994ed28": {
          "model_module": "@jupyter-widgets/controls",
          "model_name": "VBoxModel",
          "model_module_version": "1.5.0",
          "state": {
            "_dom_classes": [],
            "_model_module": "@jupyter-widgets/controls",
            "_model_module_version": "1.5.0",
            "_model_name": "VBoxModel",
            "_view_count": null,
            "_view_module": "@jupyter-widgets/controls",
            "_view_module_version": "1.5.0",
            "_view_name": "VBoxView",
            "box_style": "",
            "children": [
              "IPY_MODEL_70f980329543442991b208d59b27e2b5"
            ],
            "layout": "IPY_MODEL_296cb7efd7be4987ab111e244fb6ded0"
          }
        },
        "1a86bfea89554f9da27afd35598ed047": {
          "model_module": "@jupyter-widgets/controls",
          "model_name": "ToggleButtonModel",
          "model_module_version": "1.5.0",
          "state": {
            "_dom_classes": [],
            "_model_module": "@jupyter-widgets/controls",
            "_model_module_version": "1.5.0",
            "_model_name": "ToggleButtonModel",
            "_view_count": null,
            "_view_module": "@jupyter-widgets/controls",
            "_view_module_version": "1.5.0",
            "_view_name": "ToggleButtonView",
            "button_style": "",
            "description": "",
            "description_tooltip": null,
            "disabled": false,
            "icon": "globe",
            "layout": "IPY_MODEL_c187093e096b49dfb4d56126b2f4c167",
            "style": "IPY_MODEL_d835726989dd43bd93ce0991f4c7db2b",
            "tooltip": "Search location/data",
            "value": false
          }
        },
        "a0a43de7af5143ed92bbcd3f409feadc": {
          "model_module": "@jupyter-widgets/base",
          "model_name": "LayoutModel",
          "model_module_version": "1.2.0",
          "state": {
            "_model_module": "@jupyter-widgets/base",
            "_model_module_version": "1.2.0",
            "_model_name": "LayoutModel",
            "_view_count": null,
            "_view_module": "@jupyter-widgets/base",
            "_view_module_version": "1.2.0",
            "_view_name": "LayoutView",
            "align_content": null,
            "align_items": null,
            "align_self": null,
            "border": null,
            "bottom": null,
            "display": null,
            "flex": null,
            "flex_flow": null,
            "grid_area": null,
            "grid_auto_columns": null,
            "grid_auto_flow": null,
            "grid_auto_rows": null,
            "grid_column": null,
            "grid_gap": null,
            "grid_row": null,
            "grid_template_areas": null,
            "grid_template_columns": null,
            "grid_template_rows": null,
            "height": null,
            "justify_content": null,
            "justify_items": null,
            "left": null,
            "margin": null,
            "max_height": null,
            "max_width": null,
            "min_height": null,
            "min_width": null,
            "object_fit": null,
            "object_position": null,
            "order": null,
            "overflow": null,
            "overflow_x": null,
            "overflow_y": null,
            "padding": null,
            "right": null,
            "top": null,
            "visibility": null,
            "width": null
          }
        },
        "70f980329543442991b208d59b27e2b5": {
          "model_module": "@jupyter-widgets/controls",
          "model_name": "ToggleButtonModel",
          "model_module_version": "1.5.0",
          "state": {
            "_dom_classes": [],
            "_model_module": "@jupyter-widgets/controls",
            "_model_module_version": "1.5.0",
            "_model_name": "ToggleButtonModel",
            "_view_count": null,
            "_view_module": "@jupyter-widgets/controls",
            "_view_module_version": "1.5.0",
            "_view_name": "ToggleButtonView",
            "button_style": "",
            "description": "",
            "description_tooltip": null,
            "disabled": false,
            "icon": "wrench",
            "layout": "IPY_MODEL_d9fd1ba61e2a482e9897fa2b7aa82f57",
            "style": "IPY_MODEL_006d6a63244e415a9f73854cfbd4acf9",
            "tooltip": "Toolbar",
            "value": false
          }
        },
        "296cb7efd7be4987ab111e244fb6ded0": {
          "model_module": "@jupyter-widgets/base",
          "model_name": "LayoutModel",
          "model_module_version": "1.2.0",
          "state": {
            "_model_module": "@jupyter-widgets/base",
            "_model_module_version": "1.2.0",
            "_model_name": "LayoutModel",
            "_view_count": null,
            "_view_module": "@jupyter-widgets/base",
            "_view_module_version": "1.2.0",
            "_view_name": "LayoutView",
            "align_content": null,
            "align_items": null,
            "align_self": null,
            "border": null,
            "bottom": null,
            "display": null,
            "flex": null,
            "flex_flow": null,
            "grid_area": null,
            "grid_auto_columns": null,
            "grid_auto_flow": null,
            "grid_auto_rows": null,
            "grid_column": null,
            "grid_gap": null,
            "grid_row": null,
            "grid_template_areas": null,
            "grid_template_columns": null,
            "grid_template_rows": null,
            "height": null,
            "justify_content": null,
            "justify_items": null,
            "left": null,
            "margin": null,
            "max_height": null,
            "max_width": null,
            "min_height": null,
            "min_width": null,
            "object_fit": null,
            "object_position": null,
            "order": null,
            "overflow": null,
            "overflow_x": null,
            "overflow_y": null,
            "padding": null,
            "right": null,
            "top": null,
            "visibility": null,
            "width": null
          }
        },
        "c187093e096b49dfb4d56126b2f4c167": {
          "model_module": "@jupyter-widgets/base",
          "model_name": "LayoutModel",
          "model_module_version": "1.2.0",
          "state": {
            "_model_module": "@jupyter-widgets/base",
            "_model_module_version": "1.2.0",
            "_model_name": "LayoutModel",
            "_view_count": null,
            "_view_module": "@jupyter-widgets/base",
            "_view_module_version": "1.2.0",
            "_view_name": "LayoutView",
            "align_content": null,
            "align_items": null,
            "align_self": null,
            "border": null,
            "bottom": null,
            "display": null,
            "flex": null,
            "flex_flow": null,
            "grid_area": null,
            "grid_auto_columns": null,
            "grid_auto_flow": null,
            "grid_auto_rows": null,
            "grid_column": null,
            "grid_gap": null,
            "grid_row": null,
            "grid_template_areas": null,
            "grid_template_columns": null,
            "grid_template_rows": null,
            "height": "28px",
            "justify_content": null,
            "justify_items": null,
            "left": null,
            "margin": null,
            "max_height": null,
            "max_width": null,
            "min_height": null,
            "min_width": null,
            "object_fit": null,
            "object_position": null,
            "order": null,
            "overflow": null,
            "overflow_x": null,
            "overflow_y": null,
            "padding": "0px 0px 0px 4px",
            "right": null,
            "top": null,
            "visibility": null,
            "width": "28px"
          }
        },
        "d835726989dd43bd93ce0991f4c7db2b": {
          "model_module": "@jupyter-widgets/controls",
          "model_name": "DescriptionStyleModel",
          "model_module_version": "1.5.0",
          "state": {
            "_model_module": "@jupyter-widgets/controls",
            "_model_module_version": "1.5.0",
            "_model_name": "DescriptionStyleModel",
            "_view_count": null,
            "_view_module": "@jupyter-widgets/base",
            "_view_module_version": "1.2.0",
            "_view_name": "StyleView",
            "description_width": ""
          }
        },
        "d9fd1ba61e2a482e9897fa2b7aa82f57": {
          "model_module": "@jupyter-widgets/base",
          "model_name": "LayoutModel",
          "model_module_version": "1.2.0",
          "state": {
            "_model_module": "@jupyter-widgets/base",
            "_model_module_version": "1.2.0",
            "_model_name": "LayoutModel",
            "_view_count": null,
            "_view_module": "@jupyter-widgets/base",
            "_view_module_version": "1.2.0",
            "_view_name": "LayoutView",
            "align_content": null,
            "align_items": null,
            "align_self": null,
            "border": null,
            "bottom": null,
            "display": null,
            "flex": null,
            "flex_flow": null,
            "grid_area": null,
            "grid_auto_columns": null,
            "grid_auto_flow": null,
            "grid_auto_rows": null,
            "grid_column": null,
            "grid_gap": null,
            "grid_row": null,
            "grid_template_areas": null,
            "grid_template_columns": null,
            "grid_template_rows": null,
            "height": "28px",
            "justify_content": null,
            "justify_items": null,
            "left": null,
            "margin": null,
            "max_height": null,
            "max_width": null,
            "min_height": null,
            "min_width": null,
            "object_fit": null,
            "object_position": null,
            "order": null,
            "overflow": null,
            "overflow_x": null,
            "overflow_y": null,
            "padding": "0px 0px 0px 4px",
            "right": null,
            "top": null,
            "visibility": null,
            "width": "28px"
          }
        },
        "006d6a63244e415a9f73854cfbd4acf9": {
          "model_module": "@jupyter-widgets/controls",
          "model_name": "DescriptionStyleModel",
          "model_module_version": "1.5.0",
          "state": {
            "_model_module": "@jupyter-widgets/controls",
            "_model_module_version": "1.5.0",
            "_model_name": "DescriptionStyleModel",
            "_view_count": null,
            "_view_module": "@jupyter-widgets/base",
            "_view_module_version": "1.2.0",
            "_view_name": "StyleView",
            "description_width": ""
          }
        },
        "fc5711f1563c4b2eb03e16df136deffc": {
          "model_module": "jupyter-leaflet",
          "model_name": "LeafletMapModel",
          "model_module_version": "^0.17",
          "state": {
            "_dom_classes": [],
            "_model_module": "jupyter-leaflet",
            "_model_module_version": "^0.17",
            "_model_name": "LeafletMapModel",
            "_view_count": null,
            "_view_module": "jupyter-leaflet",
            "_view_module_version": "^0.17",
            "_view_name": "LeafletMapView",
            "bottom": 12977708,
            "bounce_at_zoom_limits": true,
            "box_zoom": true,
            "center": [
              37.70772632026515,
              -121.87726448480299
            ],
            "close_popup_on_click": true,
            "controls": [
              "IPY_MODEL_0a4f03106df14602b8a4e822857dd1eb",
              "IPY_MODEL_77777c242d974a07b8d284cb9039480f",
              "IPY_MODEL_379ce30a29224c79b5b1aa62f71d0a28",
              "IPY_MODEL_b354ee52252749ad8b50c36cc356b228",
              "IPY_MODEL_1c1496eead8f466f94ed61a7b8a5119d",
              "IPY_MODEL_4f6d232799254c7dbc3058c1872cd67c",
              "IPY_MODEL_fe08cbcf156c46e2b9392893f556abb8",
              "IPY_MODEL_ffb42375e3eb4897ba863fb14fed75eb"
            ],
            "crs": {
              "name": "EPSG3857",
              "custom": false
            },
            "default_style": "IPY_MODEL_76d275016cdb443da7fb6e7d232a16cb",
            "double_click_zoom": true,
            "dragging": true,
            "dragging_style": "IPY_MODEL_1e6c44adbb654248b58a77989abec3fd",
            "east": -121.8706512451172,
            "fullscreen": false,
            "inertia": true,
            "inertia_deceleration": 3000,
            "inertia_max_speed": 1500,
            "interpolation": "bilinear",
            "keyboard": true,
            "keyboard_pan_offset": 80,
            "keyboard_zoom_offset": 1,
            "layers": [
              "IPY_MODEL_f8560fd486ef4131a8ea7c27e799ca5d",
              "IPY_MODEL_0fafa0b223a14c289f21e75498b284ef",
              "IPY_MODEL_f7c847d0a9a943c1951d3ed506f91bd9",
              "IPY_MODEL_2f4d5ca556b84bc4a6e70e75c23beb59",
              "IPY_MODEL_80e630ce1ffb42e3a20788b0b5948b43",
              "IPY_MODEL_4f05237e6f084a82ac0f3e8cb4958b10"
            ],
            "layout": "IPY_MODEL_dd536112032d47cdb09a24e774b6c66d",
            "left": 5416815,
            "max_zoom": 24,
            "min_zoom": null,
            "modisdate": "2023-03-08",
            "north": 37.7102728159641,
            "options": [
              "bounce_at_zoom_limits",
              "box_zoom",
              "center",
              "close_popup_on_click",
              "double_click_zoom",
              "dragging",
              "fullscreen",
              "inertia",
              "inertia_deceleration",
              "inertia_max_speed",
              "interpolation",
              "keyboard",
              "keyboard_pan_offset",
              "keyboard_zoom_offset",
              "max_zoom",
              "min_zoom",
              "prefer_canvas",
              "scroll_wheel_zoom",
              "tap",
              "tap_tolerance",
              "touch_zoom",
              "world_copy_jump",
              "zoom",
              "zoom_animation_threshold",
              "zoom_delta",
              "zoom_snap"
            ],
            "panes": {},
            "prefer_canvas": false,
            "right": 5418048,
            "scroll_wheel_zoom": true,
            "south": 37.70518000232447,
            "style": "IPY_MODEL_76d275016cdb443da7fb6e7d232a16cb",
            "tap": true,
            "tap_tolerance": 15,
            "top": 12977108,
            "touch_zoom": true,
            "west": -121.88387989997865,
            "window_url": "https://d0aard783g7-496ff2e9c6d22116-0-colab.googleusercontent.com/outputframe.html?vrz=colab-20230307-060233-RC01_514758488",
            "world_copy_jump": false,
            "zoom": 17,
            "zoom_animation_threshold": 4,
            "zoom_delta": 1,
            "zoom_snap": 1
          }
        },
        "0a4f03106df14602b8a4e822857dd1eb": {
          "model_module": "jupyter-leaflet",
          "model_name": "LeafletWidgetControlModel",
          "model_module_version": "^0.17",
          "state": {
            "_model_module": "jupyter-leaflet",
            "_model_module_version": "^0.17",
            "_model_name": "LeafletWidgetControlModel",
            "_view_count": null,
            "_view_module": "jupyter-leaflet",
            "_view_module_version": "^0.17",
            "_view_name": "LeafletWidgetControlView",
            "max_height": null,
            "max_width": null,
            "min_height": null,
            "min_width": null,
            "options": [
              "position",
              "transparent_bg"
            ],
            "position": "topleft",
            "transparent_bg": false,
            "widget": "IPY_MODEL_9a95cb0ec5494ff7accb4020326dc57e"
          }
        },
        "77777c242d974a07b8d284cb9039480f": {
          "model_module": "jupyter-leaflet",
          "model_name": "LeafletZoomControlModel",
          "model_module_version": "^0.17",
          "state": {
            "_model_module": "jupyter-leaflet",
            "_model_module_version": "^0.17",
            "_model_name": "LeafletZoomControlModel",
            "_view_count": null,
            "_view_module": "jupyter-leaflet",
            "_view_module_version": "^0.17",
            "_view_name": "LeafletZoomControlView",
            "options": [
              "position",
              "zoom_in_text",
              "zoom_in_title",
              "zoom_out_text",
              "zoom_out_title"
            ],
            "position": "topleft",
            "zoom_in_text": "+",
            "zoom_in_title": "Zoom in",
            "zoom_out_text": "-",
            "zoom_out_title": "Zoom out"
          }
        },
        "379ce30a29224c79b5b1aa62f71d0a28": {
          "model_module": "jupyter-leaflet",
          "model_name": "LeafletScaleControlModel",
          "model_module_version": "^0.17",
          "state": {
            "_model_module": "jupyter-leaflet",
            "_model_module_version": "^0.17",
            "_model_name": "LeafletScaleControlModel",
            "_view_count": null,
            "_view_module": "jupyter-leaflet",
            "_view_module_version": "^0.17",
            "_view_name": "LeafletScaleControlView",
            "imperial": true,
            "max_width": 100,
            "metric": true,
            "options": [
              "imperial",
              "max_width",
              "metric",
              "position",
              "update_when_idle"
            ],
            "position": "bottomleft",
            "update_when_idle": false
          }
        },
        "b354ee52252749ad8b50c36cc356b228": {
          "model_module": "jupyter-leaflet",
          "model_name": "LeafletFullScreenControlModel",
          "model_module_version": "^0.17",
          "state": {
            "_model_module": "jupyter-leaflet",
            "_model_module_version": "^0.17",
            "_model_name": "LeafletFullScreenControlModel",
            "_view_count": null,
            "_view_module": "jupyter-leaflet",
            "_view_module_version": "^0.17",
            "_view_name": "LeafletFullScreenControlView",
            "options": [
              "position"
            ],
            "position": "topleft"
          }
        },
        "1c1496eead8f466f94ed61a7b8a5119d": {
          "model_module": "jupyter-leaflet",
          "model_name": "LeafletMeasureControlModel",
          "model_module_version": "^0.17",
          "state": {
            "_custom_units": {},
            "_model_module": "jupyter-leaflet",
            "_model_module_version": "^0.17",
            "_model_name": "LeafletMeasureControlModel",
            "_view_count": null,
            "_view_module": "jupyter-leaflet",
            "_view_module_version": "^0.17",
            "_view_name": "LeafletMeasureControlView",
            "active_color": "orange",
            "capture_z_index": 10000,
            "completed_color": "#C8F2BE",
            "options": [
              "active_color",
              "capture_z_index",
              "completed_color",
              "popup_options",
              "position",
              "primary_area_unit",
              "primary_length_unit",
              "secondary_area_unit",
              "secondary_length_unit"
            ],
            "popup_options": {
              "className": "leaflet-measure-resultpopup",
              "autoPanPadding": [
                10,
                10
              ]
            },
            "position": "bottomleft",
            "primary_area_unit": "acres",
            "primary_length_unit": "kilometers",
            "secondary_area_unit": null,
            "secondary_length_unit": null
          }
        },
        "4f6d232799254c7dbc3058c1872cd67c": {
          "model_module": "jupyter-leaflet",
          "model_name": "LeafletAttributionControlModel",
          "model_module_version": "^0.17",
          "state": {
            "_model_module": "jupyter-leaflet",
            "_model_module_version": "^0.17",
            "_model_name": "LeafletAttributionControlModel",
            "_view_count": null,
            "_view_module": "jupyter-leaflet",
            "_view_module_version": "^0.17",
            "_view_name": "LeafletAttributionControlView",
            "options": [
              "position",
              "prefix"
            ],
            "position": "bottomright",
            "prefix": "ipyleaflet"
          }
        },
        "fe08cbcf156c46e2b9392893f556abb8": {
          "model_module": "jupyter-leaflet",
          "model_name": "LeafletDrawControlModel",
          "model_module_version": "^0.17",
          "state": {
            "_model_module": "jupyter-leaflet",
            "_model_module_version": "^0.17",
            "_model_name": "LeafletDrawControlModel",
            "_view_count": null,
            "_view_module": "jupyter-leaflet",
            "_view_module_version": "^0.17",
            "_view_name": "LeafletDrawControlView",
            "circle": {
              "shapeOptions": {
                "color": "#3388ff"
              }
            },
            "circlemarker": {},
            "data": [],
            "edit": true,
            "marker": {
              "shapeOptions": {
                "color": "#3388ff"
              }
            },
            "options": [
              "position"
            ],
            "polygon": {
              "shapeOptions": {}
            },
            "polyline": {
              "shapeOptions": {}
            },
            "position": "topleft",
            "rectangle": {
              "shapeOptions": {
                "color": "#3388ff"
              }
            },
            "remove": true
          }
        },
        "ffb42375e3eb4897ba863fb14fed75eb": {
          "model_module": "jupyter-leaflet",
          "model_name": "LeafletWidgetControlModel",
          "model_module_version": "^0.17",
          "state": {
            "_model_module": "jupyter-leaflet",
            "_model_module_version": "^0.17",
            "_model_name": "LeafletWidgetControlModel",
            "_view_count": null,
            "_view_module": "jupyter-leaflet",
            "_view_module_version": "^0.17",
            "_view_name": "LeafletWidgetControlView",
            "max_height": null,
            "max_width": null,
            "min_height": null,
            "min_width": null,
            "options": [
              "position",
              "transparent_bg"
            ],
            "position": "topright",
            "transparent_bg": false,
            "widget": "IPY_MODEL_ee917a6ff83c4db9ba3a31eb8f48921b"
          }
        },
        "76d275016cdb443da7fb6e7d232a16cb": {
          "model_module": "jupyter-leaflet",
          "model_name": "LeafletMapStyleModel",
          "model_module_version": "^0.17",
          "state": {
            "_model_module": "jupyter-leaflet",
            "_model_module_version": "^0.17",
            "_model_name": "LeafletMapStyleModel",
            "_view_count": null,
            "_view_module": "@jupyter-widgets/base",
            "_view_module_version": "1.2.0",
            "_view_name": "StyleView",
            "cursor": "grab"
          }
        },
        "1e6c44adbb654248b58a77989abec3fd": {
          "model_module": "jupyter-leaflet",
          "model_name": "LeafletMapStyleModel",
          "model_module_version": "^0.17",
          "state": {
            "_model_module": "jupyter-leaflet",
            "_model_module_version": "^0.17",
            "_model_name": "LeafletMapStyleModel",
            "_view_count": null,
            "_view_module": "@jupyter-widgets/base",
            "_view_module_version": "1.2.0",
            "_view_name": "StyleView",
            "cursor": "move"
          }
        },
        "f8560fd486ef4131a8ea7c27e799ca5d": {
          "model_module": "jupyter-leaflet",
          "model_name": "LeafletTileLayerModel",
          "model_module_version": "^0.17",
          "state": {
            "_model_module": "jupyter-leaflet",
            "_model_module_version": "^0.17",
            "_model_name": "LeafletTileLayerModel",
            "_view_count": null,
            "_view_module": "jupyter-leaflet",
            "_view_module_version": "^0.17",
            "_view_name": "LeafletTileLayerView",
            "attribution": "&copy; <a href=\"https://www.openstreetmap.org/copyright\">OpenStreetMap</a> contributors",
            "base": true,
            "bottom": true,
            "bounds": null,
            "detect_retina": false,
            "loading": false,
            "max_native_zoom": null,
            "max_zoom": 19,
            "min_native_zoom": null,
            "min_zoom": 1,
            "name": "OpenStreetMap.Mapnik",
            "no_wrap": false,
            "opacity": 1,
            "options": [
              "attribution",
              "bounds",
              "detect_retina",
              "max_native_zoom",
              "max_zoom",
              "min_native_zoom",
              "min_zoom",
              "no_wrap",
              "tile_size",
              "tms",
              "zoom_offset"
            ],
            "pane": "",
            "popup": null,
            "popup_max_height": null,
            "popup_max_width": 300,
            "popup_min_width": 50,
            "show_loading": false,
            "subitems": [],
            "tile_size": 256,
            "tms": false,
            "url": "https://tile.openstreetmap.org/{z}/{x}/{y}.png",
            "visible": true,
            "zoom_offset": 0
          }
        },
        "f7c847d0a9a943c1951d3ed506f91bd9": {
          "model_module": "jupyter-leaflet",
          "model_name": "LeafletTileLayerModel",
          "model_module_version": "^0.17",
          "state": {
            "_model_module": "jupyter-leaflet",
            "_model_module_version": "^0.17",
            "_model_name": "LeafletTileLayerModel",
            "_view_count": null,
            "_view_module": "jupyter-leaflet",
            "_view_module_version": "^0.17",
            "_view_name": "LeafletTileLayerView",
            "attribution": "Google Earth Engine",
            "base": false,
            "bottom": true,
            "bounds": null,
            "detect_retina": false,
            "loading": false,
            "max_native_zoom": null,
            "max_zoom": 24,
            "min_native_zoom": null,
            "min_zoom": 0,
            "name": "perimeter",
            "no_wrap": false,
            "opacity": 1,
            "options": [
              "attribution",
              "bounds",
              "detect_retina",
              "max_native_zoom",
              "max_zoom",
              "min_native_zoom",
              "min_zoom",
              "no_wrap",
              "tile_size",
              "tms",
              "zoom_offset"
            ],
            "pane": "",
            "popup": null,
            "popup_max_height": null,
            "popup_max_width": 300,
            "popup_min_width": 50,
            "show_loading": false,
            "subitems": [],
            "tile_size": 256,
            "tms": false,
            "url": "https://earthengine.googleapis.com/v1alpha/projects/earthengine-legacy/maps/e1ff10955fb644c2e5b8c60ad8404858-cdd598adb32505be852dad13c3f9efcd/tiles/{z}/{x}/{y}",
            "visible": true,
            "zoom_offset": 0
          }
        },
        "2f4d5ca556b84bc4a6e70e75c23beb59": {
          "model_module": "jupyter-leaflet",
          "model_name": "LeafletTileLayerModel",
          "model_module_version": "^0.17",
          "state": {
            "_model_module": "jupyter-leaflet",
            "_model_module_version": "^0.17",
            "_model_name": "LeafletTileLayerModel",
            "_view_count": null,
            "_view_module": "jupyter-leaflet",
            "_view_module_version": "^0.17",
            "_view_name": "LeafletTileLayerView",
            "attribution": "Google Earth Engine",
            "base": false,
            "bottom": true,
            "bounds": null,
            "detect_retina": false,
            "loading": false,
            "max_native_zoom": null,
            "max_zoom": 24,
            "min_native_zoom": null,
            "min_zoom": 0,
            "name": "offset",
            "no_wrap": false,
            "opacity": 1,
            "options": [
              "attribution",
              "bounds",
              "detect_retina",
              "max_native_zoom",
              "max_zoom",
              "min_native_zoom",
              "min_zoom",
              "no_wrap",
              "tile_size",
              "tms",
              "zoom_offset"
            ],
            "pane": "",
            "popup": null,
            "popup_max_height": null,
            "popup_max_width": 300,
            "popup_min_width": 50,
            "show_loading": false,
            "subitems": [],
            "tile_size": 256,
            "tms": false,
            "url": "https://earthengine.googleapis.com/v1alpha/projects/earthengine-legacy/maps/26aaff8554c25564475015ba88cacf87-da79505fc33ac540d79eba677b500a94/tiles/{z}/{x}/{y}",
            "visible": true,
            "zoom_offset": 0
          }
        },
        "80e630ce1ffb42e3a20788b0b5948b43": {
          "model_module": "jupyter-leaflet",
          "model_name": "LeafletTileLayerModel",
          "model_module_version": "^0.17",
          "state": {
            "_model_module": "jupyter-leaflet",
            "_model_module_version": "^0.17",
            "_model_name": "LeafletTileLayerModel",
            "_view_count": null,
            "_view_module": "jupyter-leaflet",
            "_view_module_version": "^0.17",
            "_view_name": "LeafletTileLayerView",
            "attribution": "Google Earth Engine",
            "base": false,
            "bottom": true,
            "bounds": null,
            "detect_retina": false,
            "loading": false,
            "max_native_zoom": null,
            "max_zoom": 24,
            "min_native_zoom": null,
            "min_zoom": 0,
            "name": "scale",
            "no_wrap": false,
            "opacity": 1,
            "options": [
              "attribution",
              "bounds",
              "detect_retina",
              "max_native_zoom",
              "max_zoom",
              "min_native_zoom",
              "min_zoom",
              "no_wrap",
              "tile_size",
              "tms",
              "zoom_offset"
            ],
            "pane": "",
            "popup": null,
            "popup_max_height": null,
            "popup_max_width": 300,
            "popup_min_width": 50,
            "show_loading": false,
            "subitems": [],
            "tile_size": 256,
            "tms": false,
            "url": "https://earthengine.googleapis.com/v1alpha/projects/earthengine-legacy/maps/9f4e33b81087597dfcde21031a03d199-062ba01f283b689d5820ac8ff54a201a/tiles/{z}/{x}/{y}",
            "visible": true,
            "zoom_offset": 0
          }
        },
        "4f05237e6f084a82ac0f3e8cb4958b10": {
          "model_module": "jupyter-leaflet",
          "model_name": "LeafletTileLayerModel",
          "model_module_version": "^0.17",
          "state": {
            "_model_module": "jupyter-leaflet",
            "_model_module_version": "^0.17",
            "_model_name": "LeafletTileLayerModel",
            "_view_count": null,
            "_view_module": "jupyter-leaflet",
            "_view_module_version": "^0.17",
            "_view_name": "LeafletTileLayerView",
            "attribution": "Google Earth Engine",
            "base": false,
            "bottom": true,
            "bounds": null,
            "detect_retina": false,
            "loading": false,
            "max_native_zoom": null,
            "max_zoom": 24,
            "min_native_zoom": null,
            "min_zoom": 0,
            "name": "fit",
            "no_wrap": false,
            "opacity": 1,
            "options": [
              "attribution",
              "bounds",
              "detect_retina",
              "max_native_zoom",
              "max_zoom",
              "min_native_zoom",
              "min_zoom",
              "no_wrap",
              "tile_size",
              "tms",
              "zoom_offset"
            ],
            "pane": "",
            "popup": null,
            "popup_max_height": null,
            "popup_max_width": 300,
            "popup_min_width": 50,
            "show_loading": false,
            "subitems": [],
            "tile_size": 256,
            "tms": false,
            "url": "https://earthengine.googleapis.com/v1alpha/projects/earthengine-legacy/maps/88849c71f3249e945131bea2a3213d76-4e2c10990cb771b6382fc6b956b6e001/tiles/{z}/{x}/{y}",
            "visible": true,
            "zoom_offset": 0
          }
        },
        "dd536112032d47cdb09a24e774b6c66d": {
          "model_module": "@jupyter-widgets/base",
          "model_name": "LayoutModel",
          "model_module_version": "1.2.0",
          "state": {
            "_model_module": "@jupyter-widgets/base",
            "_model_module_version": "1.2.0",
            "_model_name": "LayoutModel",
            "_view_count": null,
            "_view_module": "@jupyter-widgets/base",
            "_view_module_version": "1.2.0",
            "_view_name": "LayoutView",
            "align_content": null,
            "align_items": null,
            "align_self": null,
            "border": null,
            "bottom": null,
            "display": null,
            "flex": null,
            "flex_flow": null,
            "grid_area": null,
            "grid_auto_columns": null,
            "grid_auto_flow": null,
            "grid_auto_rows": null,
            "grid_column": null,
            "grid_gap": null,
            "grid_row": null,
            "grid_template_areas": null,
            "grid_template_columns": null,
            "grid_template_rows": null,
            "height": "600px",
            "justify_content": null,
            "justify_items": null,
            "left": null,
            "margin": null,
            "max_height": null,
            "max_width": null,
            "min_height": null,
            "min_width": null,
            "object_fit": null,
            "object_position": null,
            "order": null,
            "overflow": null,
            "overflow_x": null,
            "overflow_y": null,
            "padding": null,
            "right": null,
            "top": null,
            "visibility": null,
            "width": null
          }
        },
        "2e8882e723ad42bd869732cd4f1d08a5": {
          "model_module": "jupyter-leaflet",
          "model_name": "LeafletMapStyleModel",
          "model_module_version": "^0.17",
          "state": {
            "_model_module": "jupyter-leaflet",
            "_model_module_version": "^0.17",
            "_model_name": "LeafletMapStyleModel",
            "_view_count": null,
            "_view_module": "@jupyter-widgets/base",
            "_view_module_version": "1.2.0",
            "_view_name": "StyleView",
            "cursor": "grab"
          }
        },
        "9a95cb0ec5494ff7accb4020326dc57e": {
          "model_module": "@jupyter-widgets/controls",
          "model_name": "HBoxModel",
          "model_module_version": "1.5.0",
          "state": {
            "_dom_classes": [],
            "_model_module": "@jupyter-widgets/controls",
            "_model_module_version": "1.5.0",
            "_model_name": "HBoxModel",
            "_view_count": null,
            "_view_module": "@jupyter-widgets/controls",
            "_view_module_version": "1.5.0",
            "_view_name": "HBoxView",
            "box_style": "",
            "children": [
              "IPY_MODEL_6ceb8c080f7747c19570832c864afadf"
            ],
            "layout": "IPY_MODEL_20e110377ac845cc93abe455eb5ee054"
          }
        },
        "ee917a6ff83c4db9ba3a31eb8f48921b": {
          "model_module": "@jupyter-widgets/controls",
          "model_name": "VBoxModel",
          "model_module_version": "1.5.0",
          "state": {
            "_dom_classes": [],
            "_model_module": "@jupyter-widgets/controls",
            "_model_module_version": "1.5.0",
            "_model_name": "VBoxModel",
            "_view_count": null,
            "_view_module": "@jupyter-widgets/controls",
            "_view_module_version": "1.5.0",
            "_view_name": "VBoxView",
            "box_style": "",
            "children": [
              "IPY_MODEL_1d8ef04c989b4cc3800862e9ff0fe3d4"
            ],
            "layout": "IPY_MODEL_7e9aed33d266467dbbef69480753ce67"
          }
        },
        "6ceb8c080f7747c19570832c864afadf": {
          "model_module": "@jupyter-widgets/controls",
          "model_name": "ToggleButtonModel",
          "model_module_version": "1.5.0",
          "state": {
            "_dom_classes": [],
            "_model_module": "@jupyter-widgets/controls",
            "_model_module_version": "1.5.0",
            "_model_name": "ToggleButtonModel",
            "_view_count": null,
            "_view_module": "@jupyter-widgets/controls",
            "_view_module_version": "1.5.0",
            "_view_name": "ToggleButtonView",
            "button_style": "",
            "description": "",
            "description_tooltip": null,
            "disabled": false,
            "icon": "globe",
            "layout": "IPY_MODEL_4fa9a2ea8dec420cb1df744f2c645dcb",
            "style": "IPY_MODEL_f758125ea39d4fc4b8e38ab3d53a865c",
            "tooltip": "Search location/data",
            "value": false
          }
        },
        "20e110377ac845cc93abe455eb5ee054": {
          "model_module": "@jupyter-widgets/base",
          "model_name": "LayoutModel",
          "model_module_version": "1.2.0",
          "state": {
            "_model_module": "@jupyter-widgets/base",
            "_model_module_version": "1.2.0",
            "_model_name": "LayoutModel",
            "_view_count": null,
            "_view_module": "@jupyter-widgets/base",
            "_view_module_version": "1.2.0",
            "_view_name": "LayoutView",
            "align_content": null,
            "align_items": null,
            "align_self": null,
            "border": null,
            "bottom": null,
            "display": null,
            "flex": null,
            "flex_flow": null,
            "grid_area": null,
            "grid_auto_columns": null,
            "grid_auto_flow": null,
            "grid_auto_rows": null,
            "grid_column": null,
            "grid_gap": null,
            "grid_row": null,
            "grid_template_areas": null,
            "grid_template_columns": null,
            "grid_template_rows": null,
            "height": null,
            "justify_content": null,
            "justify_items": null,
            "left": null,
            "margin": null,
            "max_height": null,
            "max_width": null,
            "min_height": null,
            "min_width": null,
            "object_fit": null,
            "object_position": null,
            "order": null,
            "overflow": null,
            "overflow_x": null,
            "overflow_y": null,
            "padding": null,
            "right": null,
            "top": null,
            "visibility": null,
            "width": null
          }
        },
        "1d8ef04c989b4cc3800862e9ff0fe3d4": {
          "model_module": "@jupyter-widgets/controls",
          "model_name": "ToggleButtonModel",
          "model_module_version": "1.5.0",
          "state": {
            "_dom_classes": [],
            "_model_module": "@jupyter-widgets/controls",
            "_model_module_version": "1.5.0",
            "_model_name": "ToggleButtonModel",
            "_view_count": null,
            "_view_module": "@jupyter-widgets/controls",
            "_view_module_version": "1.5.0",
            "_view_name": "ToggleButtonView",
            "button_style": "",
            "description": "",
            "description_tooltip": null,
            "disabled": false,
            "icon": "wrench",
            "layout": "IPY_MODEL_943fe576af6144cca71732ee2d646ff4",
            "style": "IPY_MODEL_3c562755886e439daa50ebd19c441f88",
            "tooltip": "Toolbar",
            "value": false
          }
        },
        "7e9aed33d266467dbbef69480753ce67": {
          "model_module": "@jupyter-widgets/base",
          "model_name": "LayoutModel",
          "model_module_version": "1.2.0",
          "state": {
            "_model_module": "@jupyter-widgets/base",
            "_model_module_version": "1.2.0",
            "_model_name": "LayoutModel",
            "_view_count": null,
            "_view_module": "@jupyter-widgets/base",
            "_view_module_version": "1.2.0",
            "_view_name": "LayoutView",
            "align_content": null,
            "align_items": null,
            "align_self": null,
            "border": null,
            "bottom": null,
            "display": null,
            "flex": null,
            "flex_flow": null,
            "grid_area": null,
            "grid_auto_columns": null,
            "grid_auto_flow": null,
            "grid_auto_rows": null,
            "grid_column": null,
            "grid_gap": null,
            "grid_row": null,
            "grid_template_areas": null,
            "grid_template_columns": null,
            "grid_template_rows": null,
            "height": null,
            "justify_content": null,
            "justify_items": null,
            "left": null,
            "margin": null,
            "max_height": null,
            "max_width": null,
            "min_height": null,
            "min_width": null,
            "object_fit": null,
            "object_position": null,
            "order": null,
            "overflow": null,
            "overflow_x": null,
            "overflow_y": null,
            "padding": null,
            "right": null,
            "top": null,
            "visibility": null,
            "width": null
          }
        },
        "4fa9a2ea8dec420cb1df744f2c645dcb": {
          "model_module": "@jupyter-widgets/base",
          "model_name": "LayoutModel",
          "model_module_version": "1.2.0",
          "state": {
            "_model_module": "@jupyter-widgets/base",
            "_model_module_version": "1.2.0",
            "_model_name": "LayoutModel",
            "_view_count": null,
            "_view_module": "@jupyter-widgets/base",
            "_view_module_version": "1.2.0",
            "_view_name": "LayoutView",
            "align_content": null,
            "align_items": null,
            "align_self": null,
            "border": null,
            "bottom": null,
            "display": null,
            "flex": null,
            "flex_flow": null,
            "grid_area": null,
            "grid_auto_columns": null,
            "grid_auto_flow": null,
            "grid_auto_rows": null,
            "grid_column": null,
            "grid_gap": null,
            "grid_row": null,
            "grid_template_areas": null,
            "grid_template_columns": null,
            "grid_template_rows": null,
            "height": "28px",
            "justify_content": null,
            "justify_items": null,
            "left": null,
            "margin": null,
            "max_height": null,
            "max_width": null,
            "min_height": null,
            "min_width": null,
            "object_fit": null,
            "object_position": null,
            "order": null,
            "overflow": null,
            "overflow_x": null,
            "overflow_y": null,
            "padding": "0px 0px 0px 4px",
            "right": null,
            "top": null,
            "visibility": null,
            "width": "28px"
          }
        },
        "f758125ea39d4fc4b8e38ab3d53a865c": {
          "model_module": "@jupyter-widgets/controls",
          "model_name": "DescriptionStyleModel",
          "model_module_version": "1.5.0",
          "state": {
            "_model_module": "@jupyter-widgets/controls",
            "_model_module_version": "1.5.0",
            "_model_name": "DescriptionStyleModel",
            "_view_count": null,
            "_view_module": "@jupyter-widgets/base",
            "_view_module_version": "1.2.0",
            "_view_name": "StyleView",
            "description_width": ""
          }
        },
        "943fe576af6144cca71732ee2d646ff4": {
          "model_module": "@jupyter-widgets/base",
          "model_name": "LayoutModel",
          "model_module_version": "1.2.0",
          "state": {
            "_model_module": "@jupyter-widgets/base",
            "_model_module_version": "1.2.0",
            "_model_name": "LayoutModel",
            "_view_count": null,
            "_view_module": "@jupyter-widgets/base",
            "_view_module_version": "1.2.0",
            "_view_name": "LayoutView",
            "align_content": null,
            "align_items": null,
            "align_self": null,
            "border": null,
            "bottom": null,
            "display": null,
            "flex": null,
            "flex_flow": null,
            "grid_area": null,
            "grid_auto_columns": null,
            "grid_auto_flow": null,
            "grid_auto_rows": null,
            "grid_column": null,
            "grid_gap": null,
            "grid_row": null,
            "grid_template_areas": null,
            "grid_template_columns": null,
            "grid_template_rows": null,
            "height": "28px",
            "justify_content": null,
            "justify_items": null,
            "left": null,
            "margin": null,
            "max_height": null,
            "max_width": null,
            "min_height": null,
            "min_width": null,
            "object_fit": null,
            "object_position": null,
            "order": null,
            "overflow": null,
            "overflow_x": null,
            "overflow_y": null,
            "padding": "0px 0px 0px 4px",
            "right": null,
            "top": null,
            "visibility": null,
            "width": "28px"
          }
        },
        "3c562755886e439daa50ebd19c441f88": {
          "model_module": "@jupyter-widgets/controls",
          "model_name": "DescriptionStyleModel",
          "model_module_version": "1.5.0",
          "state": {
            "_model_module": "@jupyter-widgets/controls",
            "_model_module_version": "1.5.0",
            "_model_name": "DescriptionStyleModel",
            "_view_count": null,
            "_view_module": "@jupyter-widgets/base",
            "_view_module_version": "1.2.0",
            "_view_name": "StyleView",
            "description_width": ""
          }
        }
      }
    }
  },
  "cells": [
    {
      "cell_type": "markdown",
      "metadata": {
        "id": "view-in-github",
        "colab_type": "text"
      },
      "source": [
        "<a href=\"https://colab.research.google.com/github/skylerlewis/tassajara/blob/main/tassajara_ndvi.ipynb\" target=\"_parent\"><img src=\"https://colab.research.google.com/assets/colab-badge.svg\" alt=\"Open In Colab\"/></a>"
      ]
    },
    {
      "cell_type": "code",
      "source": [
        "# install packages\n",
        "\n",
        "!pip install -q -U PyDrive\n",
        "!pip install -q -U geemap\n",
        "!pip install -q -U geopandas\n",
        "\n",
        "# get files from github\n",
        "\n",
        "!wget https://github.com/skylerlewis/tassajara/raw/main/data/tassajara_perim.geojson\n",
        "!wget https://github.com/skylerlewis/tassajara/raw/main/data/tassajara_perim_50ft.geojson\n",
        "!wget https://github.com/skylerlewis/tassajara/raw/main/data/raster/lidar2021_REM.tif\n",
        "!wget https://github.com/skylerlewis/tassajara/raw/main/data/tassajara_perim_50ft.kml"
      ],
      "metadata": {
        "id": "QQGoqpUrzR_Y"
      },
      "execution_count": null,
      "outputs": []
    },
    {
      "cell_type": "code",
      "source": [
        "# get API key from private google drive\n",
        "\n",
        "from pydrive.auth import GoogleAuth\n",
        "from pydrive.drive import GoogleDrive\n",
        "from google.colab import auth\n",
        "from oauth2client.client import GoogleCredentials\n",
        "\n",
        "auth.authenticate_user()\n",
        "gauth = GoogleAuth()\n",
        "gauth.credentials = GoogleCredentials.get_application_default()\n",
        "drive = GoogleDrive(gauth)\n",
        "\n",
        "def file_from_gdrive(filename, driveid):\n",
        "    downloaded = drive.CreateFile({\"id\": driveid}) \n",
        "    downloaded.GetContentFile(filename)\n",
        "    return filename\n",
        "\n",
        "file_from_gdrive(\"tassajara-creek-e83f6fb39a0f.json\", \"1_BJV5EcePhqi_8Iwrreonng5-Q2JJXpz\")"
      ],
      "metadata": {
        "colab": {
          "base_uri": "https://localhost:8080/",
          "height": 36
        },
        "id": "rx-f-f_Cj_mb",
        "outputId": "f0130d49-7b16-42d3-d6d5-08f317ad9b91"
      },
      "execution_count": null,
      "outputs": [
        {
          "output_type": "execute_result",
          "data": {
            "text/plain": [
              "'tassajara-creek-e83f6fb39a0f.json'"
            ],
            "application/vnd.google.colaboratory.intrinsic+json": {
              "type": "string"
            }
          },
          "metadata": {},
          "execution_count": 2
        }
      ]
    },
    {
      "cell_type": "code",
      "source": [
        "# import packages\n",
        "\n",
        "import ee\n",
        "import geemap\n",
        "import numpy as np\n",
        "import pandas as pd\n",
        "from matplotlib import pyplot as plt\n",
        "import seaborn as sns"
      ],
      "metadata": {
        "id": "U5OLMX0jTz2Y"
      },
      "execution_count": null,
      "outputs": []
    },
    {
      "cell_type": "code",
      "execution_count": null,
      "metadata": {
        "id": "Vhcrb5BvNCcn"
      },
      "outputs": [],
      "source": [
        "# authenticate with Google Earth Engine\n",
        "\n",
        "service_account = \"earth-engine@tassajara-creek.iam.gserviceaccount.com\"\n",
        "credentials = ee.ServiceAccountCredentials(service_account, 'tassajara-creek-e83f6fb39a0f.json')\n",
        "ee.Initialize(credentials)\n",
        "\n",
        "# https://colab.research.google.com/github/google/earthengine-api/blob/master/python/examples/ipynb/ee-api-colab-setup.ipynb#scrollTo=v7pD6pDOAhOW\n",
        "# first make a google cloud project with a service account and make sure you have access https://console.cloud.google.com/apis/credentials?project=tassajara-creek\n",
        "# enable the API in cloud via https://console.cloud.google.com/apis/library/earthengine.googleapis.com?project=tassajara-creek\n",
        "# then register the project via https://code.earthengine.google.com/register "
      ]
    },
    {
      "cell_type": "code",
      "source": [
        "# import and map the area of interest\n",
        "\n",
        "tassajara_perim = geemap.geojson_to_ee(\"tassajara_perim.geojson\")\n",
        "m = geemap.Map()\n",
        "m.addLayer(tassajara_perim, {}, \"perimeter\")\n",
        "m.centerObject(tassajara_perim, zoom=15)\n",
        "m"
      ],
      "metadata": {
        "colab": {
          "base_uri": "https://localhost:8080/",
          "height": 621,
          "referenced_widgets": [
            "2ee34f24041b42c594fc8516c6b36e97",
            "163154591a9f4b78a480f6e65307e0ea",
            "d5a148cc6d6948f49224b56b6144bf62",
            "4153324cc24e40ea91c3d34666a6458c",
            "32185d2e802347279c765060fea4c261",
            "700d5e09681a455eac0ab8cd0420a9c7",
            "917fb8e263e840edb28c32d2ad19a8f3",
            "8d925f01eab94742821727be5b65b711",
            "ef5143ddd5f14e04b810d2c63a128060",
            "c5e670e80038422891c49aba6a607183",
            "00981075aa1e403ab25495a9b823e01b",
            "718e897cee564a7d9f21ac9aeabe8b7b",
            "0fafa0b223a14c289f21e75498b284ef",
            "c23e90fa54b444d2a8f937afa6629e44",
            "bc151e75701e4595ba3c04a06a3386d1",
            "61eefb0aaccd4c20a6d152c5b40d941d",
            "5d7df7d3f4894729b78e65206610b937",
            "7ef533fc1c10413194953f735994ed28",
            "1a86bfea89554f9da27afd35598ed047",
            "a0a43de7af5143ed92bbcd3f409feadc",
            "70f980329543442991b208d59b27e2b5",
            "296cb7efd7be4987ab111e244fb6ded0",
            "c187093e096b49dfb4d56126b2f4c167",
            "d835726989dd43bd93ce0991f4c7db2b",
            "d9fd1ba61e2a482e9897fa2b7aa82f57",
            "006d6a63244e415a9f73854cfbd4acf9"
          ]
        },
        "id": "2Pk7AL-NalW6",
        "outputId": "a7bded64-cc0b-4928-f7a7-c1e3cbea7eb0"
      },
      "execution_count": null,
      "outputs": [
        {
          "output_type": "display_data",
          "data": {
            "text/plain": [
              "Map(center=[37.707227929651516, -121.87901748917385], controls=(WidgetControl(options=['position', 'transparen…"
            ],
            "application/vnd.jupyter.widget-view+json": {
              "version_major": 2,
              "version_minor": 0,
              "model_id": "2ee34f24041b42c594fc8516c6b36e97"
            }
          },
          "metadata": {
            "application/vnd.jupyter.widget-view+json": {
              "colab": {
                "custom_widget_manager": {
                  "url": "https://ssl.gstatic.com/colaboratory-static/widgets/colab-cdn-widget-manager/b3e629b1971e1542/manager.min.js"
                }
              }
            }
          }
        }
      ]
    },
    {
      "cell_type": "markdown",
      "source": [
        "# Landsat Time Series"
      ],
      "metadata": {
        "id": "qJGAZPS_IBAE"
      }
    },
    {
      "cell_type": "code",
      "source": [
        "# download NDVI data from Landsat 5, 7, and 8 for the area of interest\n",
        "\n",
        "def applyScaleFactorsL5(image):\n",
        "  opticalBands = image.select('SR_B.').multiply(0.0000275).add(-0.2)\n",
        "  thermalBand = image.select('ST_B6').multiply(0.00341802).add(149.0)\n",
        "  return (image.addBands(opticalBands, None, True)\n",
        "              .addBands(thermalBand, None, True))\n",
        "\n",
        "def applyNdviL5(image):\n",
        "  ndvi = ee.Image(image).normalizedDifference(['SR_B4', 'SR_B3'])\n",
        "  return ee.Image(image).addBands(ndvi)\n",
        "\n",
        "# get Landsat 5 through end of September 2013\n",
        "landsat5 = (ee.ImageCollection(\"LANDSAT/LT05/C02/T1_L2\")\n",
        "    .filterBounds(tassajara_perim)\n",
        "    .filterDate('1984-01-01', '2011-09-30')\n",
        "    .filterMetadata('CLOUD_COVER_LAND', 'less_than', 20)\n",
        "    .map(applyScaleFactorsL5)\n",
        "    .map(applyNdviL5))\n",
        "\n",
        "def applyScaleFactorsL7(image):\n",
        "  opticalBands = image.select('SR_B.').multiply(0.0000275).add(-0.2)\n",
        "  thermalBand = image.select('ST_B6').multiply(0.00341802).add(149.0)\n",
        "  return (image.addBands(opticalBands, None, True)\n",
        "              .addBands(thermalBand, None, True))\n",
        "\n",
        "# get Landsat 7 for just the interim period\n",
        "landsat7 = (ee.ImageCollection('LANDSAT/LE07/C02/T1_L2')\n",
        "    .filterBounds(tassajara_perim)\n",
        "    .filterDate('2011-10-01', '2013-03-31')\n",
        "    .filterMetadata('CLOUD_COVER_LAND', 'less_than', 20)\n",
        "    .map(applyScaleFactorsL7)\n",
        "    .map(applyNdviL5)) # can use same function as Landsat 5\n",
        "\n",
        "def applyScaleFactorsL8(image):\n",
        "  opticalBands = image.select('SR_B.').multiply(0.0000275).add(-0.2)\n",
        "  thermalBands = image.select('ST_B.*').multiply(0.00341802).add(149.0)\n",
        "  return (image.addBands(opticalBands, None, True)\n",
        "              .addBands(thermalBands, None, True))\n",
        "\n",
        "def applyNdviL8(image):\n",
        "  ndvi = ee.Image(image).normalizedDifference(['SR_B5', 'SR_B4'])\n",
        "  return ee.Image(image).addBands(ndvi)\n",
        "\n",
        "# get Landsat 8 starting April 2013\n",
        "landsat8 = (ee.ImageCollection(\"LANDSAT/LC08/C02/T1_L2\")\n",
        "    .filterBounds(tassajara_perim)\n",
        "    .filterDate('2013-04-01', '2023-12-31')\n",
        "    .filterMetadata('CLOUD_COVER_LAND', 'less_than', 20)\n",
        "    .map(applyScaleFactorsL8)\n",
        "    .map(applyNdviL8))\n",
        "\n",
        "# merge all collections together\n",
        "\n",
        "ndvi = landsat5.merge(landsat7).merge(landsat8).select('nd')"
      ],
      "metadata": {
        "id": "-rJvQmUlalbZ"
      },
      "execution_count": null,
      "outputs": []
    },
    {
      "cell_type": "code",
      "source": [
        "# calculate the average NDVI within the AOI for each image in the collection\n",
        "\n",
        "def setProperty(image):\n",
        "    dict = image.reduceRegion(ee.Reducer.mean(), tassajara_perim)\n",
        "    return image.set(dict)\n",
        "\n",
        "# add the results to image properties\n",
        "withMean = ndvi.map(setProperty)"
      ],
      "metadata": {
        "id": "A80obfkSapyZ"
      },
      "execution_count": null,
      "outputs": []
    },
    {
      "cell_type": "code",
      "source": [
        "# extract the cloud-calculated NDVI means as a local Python list \n",
        "\n",
        "time = withMean.aggregate_array('system:time_start').getInfo()\n",
        "ndvi = withMean.aggregate_array('nd').getInfo()"
      ],
      "metadata": {
        "id": "y7-9W4NvveNC"
      },
      "execution_count": null,
      "outputs": []
    },
    {
      "cell_type": "code",
      "source": [
        "# consolidate as a data frame\n",
        "\n",
        "ndvi_time_series = (\n",
        "    pd.concat([pd.Series(time), pd.Series(ndvi)], axis=1, keys=[\"time\", \"ndvi\"])\n",
        "    .assign(time = lambda df: [pd.to_datetime(x * 1e6) for x in df[\"time\"]])\n",
        "    )\n",
        "ndvi_time_series"
      ],
      "metadata": {
        "colab": {
          "base_uri": "https://localhost:8080/",
          "height": 423
        },
        "id": "D6p5MgTZw0T5",
        "outputId": "bf113a2b-6ad8-4df4-8e34-b482be1c1e4a"
      },
      "execution_count": null,
      "outputs": [
        {
          "output_type": "execute_result",
          "data": {
            "text/plain": [
              "                             time      ndvi\n",
              "0   1984-05-18 18:13:47.194000000  0.364794\n",
              "1   1984-06-03 18:14:10.438000000  0.267640\n",
              "2   1984-07-05 18:14:37.630000000  0.224809\n",
              "3   1984-09-07 18:16:09.720000000  0.219606\n",
              "4   1984-09-23 18:16:11.544000000  0.216027\n",
              "..                            ...       ...\n",
              "448 2022-09-16 18:46:43.008000000  0.476842\n",
              "449 2022-10-02 18:46:42.263000064  0.511270\n",
              "450 2022-11-03 18:46:43.406000128  0.540508\n",
              "451 2022-11-19 18:46:36.198000128  0.499110\n",
              "452 2023-01-22 18:46:25.319000064  0.350330\n",
              "\n",
              "[453 rows x 2 columns]"
            ],
            "text/html": [
              "\n",
              "  <div id=\"df-ba17b160-d234-451a-8602-e3b3a6fbcbed\">\n",
              "    <div class=\"colab-df-container\">\n",
              "      <div>\n",
              "<style scoped>\n",
              "    .dataframe tbody tr th:only-of-type {\n",
              "        vertical-align: middle;\n",
              "    }\n",
              "\n",
              "    .dataframe tbody tr th {\n",
              "        vertical-align: top;\n",
              "    }\n",
              "\n",
              "    .dataframe thead th {\n",
              "        text-align: right;\n",
              "    }\n",
              "</style>\n",
              "<table border=\"1\" class=\"dataframe\">\n",
              "  <thead>\n",
              "    <tr style=\"text-align: right;\">\n",
              "      <th></th>\n",
              "      <th>time</th>\n",
              "      <th>ndvi</th>\n",
              "    </tr>\n",
              "  </thead>\n",
              "  <tbody>\n",
              "    <tr>\n",
              "      <th>0</th>\n",
              "      <td>1984-05-18 18:13:47.194000000</td>\n",
              "      <td>0.364794</td>\n",
              "    </tr>\n",
              "    <tr>\n",
              "      <th>1</th>\n",
              "      <td>1984-06-03 18:14:10.438000000</td>\n",
              "      <td>0.267640</td>\n",
              "    </tr>\n",
              "    <tr>\n",
              "      <th>2</th>\n",
              "      <td>1984-07-05 18:14:37.630000000</td>\n",
              "      <td>0.224809</td>\n",
              "    </tr>\n",
              "    <tr>\n",
              "      <th>3</th>\n",
              "      <td>1984-09-07 18:16:09.720000000</td>\n",
              "      <td>0.219606</td>\n",
              "    </tr>\n",
              "    <tr>\n",
              "      <th>4</th>\n",
              "      <td>1984-09-23 18:16:11.544000000</td>\n",
              "      <td>0.216027</td>\n",
              "    </tr>\n",
              "    <tr>\n",
              "      <th>...</th>\n",
              "      <td>...</td>\n",
              "      <td>...</td>\n",
              "    </tr>\n",
              "    <tr>\n",
              "      <th>448</th>\n",
              "      <td>2022-09-16 18:46:43.008000000</td>\n",
              "      <td>0.476842</td>\n",
              "    </tr>\n",
              "    <tr>\n",
              "      <th>449</th>\n",
              "      <td>2022-10-02 18:46:42.263000064</td>\n",
              "      <td>0.511270</td>\n",
              "    </tr>\n",
              "    <tr>\n",
              "      <th>450</th>\n",
              "      <td>2022-11-03 18:46:43.406000128</td>\n",
              "      <td>0.540508</td>\n",
              "    </tr>\n",
              "    <tr>\n",
              "      <th>451</th>\n",
              "      <td>2022-11-19 18:46:36.198000128</td>\n",
              "      <td>0.499110</td>\n",
              "    </tr>\n",
              "    <tr>\n",
              "      <th>452</th>\n",
              "      <td>2023-01-22 18:46:25.319000064</td>\n",
              "      <td>0.350330</td>\n",
              "    </tr>\n",
              "  </tbody>\n",
              "</table>\n",
              "<p>453 rows × 2 columns</p>\n",
              "</div>\n",
              "      <button class=\"colab-df-convert\" onclick=\"convertToInteractive('df-ba17b160-d234-451a-8602-e3b3a6fbcbed')\"\n",
              "              title=\"Convert this dataframe to an interactive table.\"\n",
              "              style=\"display:none;\">\n",
              "        \n",
              "  <svg xmlns=\"http://www.w3.org/2000/svg\" height=\"24px\"viewBox=\"0 0 24 24\"\n",
              "       width=\"24px\">\n",
              "    <path d=\"M0 0h24v24H0V0z\" fill=\"none\"/>\n",
              "    <path d=\"M18.56 5.44l.94 2.06.94-2.06 2.06-.94-2.06-.94-.94-2.06-.94 2.06-2.06.94zm-11 1L8.5 8.5l.94-2.06 2.06-.94-2.06-.94L8.5 2.5l-.94 2.06-2.06.94zm10 10l.94 2.06.94-2.06 2.06-.94-2.06-.94-.94-2.06-.94 2.06-2.06.94z\"/><path d=\"M17.41 7.96l-1.37-1.37c-.4-.4-.92-.59-1.43-.59-.52 0-1.04.2-1.43.59L10.3 9.45l-7.72 7.72c-.78.78-.78 2.05 0 2.83L4 21.41c.39.39.9.59 1.41.59.51 0 1.02-.2 1.41-.59l7.78-7.78 2.81-2.81c.8-.78.8-2.07 0-2.86zM5.41 20L4 18.59l7.72-7.72 1.47 1.35L5.41 20z\"/>\n",
              "  </svg>\n",
              "      </button>\n",
              "      \n",
              "  <style>\n",
              "    .colab-df-container {\n",
              "      display:flex;\n",
              "      flex-wrap:wrap;\n",
              "      gap: 12px;\n",
              "    }\n",
              "\n",
              "    .colab-df-convert {\n",
              "      background-color: #E8F0FE;\n",
              "      border: none;\n",
              "      border-radius: 50%;\n",
              "      cursor: pointer;\n",
              "      display: none;\n",
              "      fill: #1967D2;\n",
              "      height: 32px;\n",
              "      padding: 0 0 0 0;\n",
              "      width: 32px;\n",
              "    }\n",
              "\n",
              "    .colab-df-convert:hover {\n",
              "      background-color: #E2EBFA;\n",
              "      box-shadow: 0px 1px 2px rgba(60, 64, 67, 0.3), 0px 1px 3px 1px rgba(60, 64, 67, 0.15);\n",
              "      fill: #174EA6;\n",
              "    }\n",
              "\n",
              "    [theme=dark] .colab-df-convert {\n",
              "      background-color: #3B4455;\n",
              "      fill: #D2E3FC;\n",
              "    }\n",
              "\n",
              "    [theme=dark] .colab-df-convert:hover {\n",
              "      background-color: #434B5C;\n",
              "      box-shadow: 0px 1px 3px 1px rgba(0, 0, 0, 0.15);\n",
              "      filter: drop-shadow(0px 1px 2px rgba(0, 0, 0, 0.3));\n",
              "      fill: #FFFFFF;\n",
              "    }\n",
              "  </style>\n",
              "\n",
              "      <script>\n",
              "        const buttonEl =\n",
              "          document.querySelector('#df-ba17b160-d234-451a-8602-e3b3a6fbcbed button.colab-df-convert');\n",
              "        buttonEl.style.display =\n",
              "          google.colab.kernel.accessAllowed ? 'block' : 'none';\n",
              "\n",
              "        async function convertToInteractive(key) {\n",
              "          const element = document.querySelector('#df-ba17b160-d234-451a-8602-e3b3a6fbcbed');\n",
              "          const dataTable =\n",
              "            await google.colab.kernel.invokeFunction('convertToInteractive',\n",
              "                                                     [key], {});\n",
              "          if (!dataTable) return;\n",
              "\n",
              "          const docLinkHtml = 'Like what you see? Visit the ' +\n",
              "            '<a target=\"_blank\" href=https://colab.research.google.com/notebooks/data_table.ipynb>data table notebook</a>'\n",
              "            + ' to learn more about interactive tables.';\n",
              "          element.innerHTML = '';\n",
              "          dataTable['output_type'] = 'display_data';\n",
              "          await google.colab.output.renderOutput(dataTable, element);\n",
              "          const docLink = document.createElement('div');\n",
              "          docLink.innerHTML = docLinkHtml;\n",
              "          element.appendChild(docLink);\n",
              "        }\n",
              "      </script>\n",
              "    </div>\n",
              "  </div>\n",
              "  "
            ]
          },
          "metadata": {},
          "execution_count": 9
        }
      ]
    },
    {
      "cell_type": "code",
      "source": [
        "# plot the result\n",
        "\n",
        "fig, ax = plt.subplots()\n",
        "ax = sns.lineplot(data = ndvi_time_series, x=\"time\", y=\"ndvi\")\n",
        "fig.suptitle(\"NDVI vs time\")\n",
        "plt.show()"
      ],
      "metadata": {
        "colab": {
          "base_uri": "https://localhost:8080/",
          "height": 308
        },
        "id": "gNP3eHOdx1Zi",
        "outputId": "aad8e124-8aeb-4db2-fd69-ba82efc357d7"
      },
      "execution_count": null,
      "outputs": [
        {
          "output_type": "display_data",
          "data": {
            "text/plain": [
              "<Figure size 432x288 with 1 Axes>"
            ],
            "image/png": "[encoded data removed]"
          },
          "metadata": {
            "needs_background": "light"
          }
        }
      ]
    },
    {
      "cell_type": "code",
      "source": [
        "# export the result to CSV\n",
        "\n",
        "ndvi_time_series.to_csv(\"ndvi_time_series.csv\")"
      ],
      "metadata": {
        "id": "m-I0fQRE0PWe"
      },
      "execution_count": null,
      "outputs": []
    },
    {
      "cell_type": "markdown",
      "source": [
        "# NAIP Spatial Trend Analysis"
      ],
      "metadata": {
        "id": "hdo24qcuIFo1"
      }
    },
    {
      "cell_type": "code",
      "source": [
        "#tassajara_perim_50ft = geemap.geojson_to_ee(\"tassajara_perim_50ft.geojson\")\n",
        "geemap.kml_to_shp(\"tassajara_perim_50ft.kml\", \"tassajara_perim_50ft.shp\")\n",
        "tassajara_perim_50ft = geemap.shp_to_ee('tassajara_perim_50ft.shp')\n",
        "\n",
        "def clipToBounds(img):\n",
        "    return img.clip(tassajara_perim_50ft)\n",
        "\n",
        "naip = (ee.ImageCollection('USDA/NAIP/DOQQ')\n",
        "    .filterBounds(tassajara_perim_50ft)\n",
        "    .sort(\"system:time_start\")\n",
        "    .map(clipToBounds))\n",
        "\n",
        "def calcNaipNdvi(img):\n",
        "    return img.addBands(img.normalizedDifference([\"N\", \"R\"]))\n",
        "\n",
        "naipNDVI = (naip\n",
        "    .filterDate(\"2009-01-01\", \"2023-12-31\")\n",
        "    .map(calcNaipNdvi))\n",
        "\n",
        "def createTimeBand(img):\n",
        "    year = img.date().difference(ee.Date('2009-01-01'), 'year')\n",
        "    return ee.Image(year).float().addBands(img)\n",
        "\n",
        "fit = (naipNDVI\n",
        "    .select('nd')\n",
        "    .map(createTimeBand)\n",
        "    .reduce(ee.Reducer.linearFit()))"
      ],
      "metadata": {
        "id": "2RGemLDWII21",
        "colab": {
          "base_uri": "https://localhost:8080/"
        },
        "outputId": "ab9dcc60-9697-4f16-8bca-c5924bf2c5fc"
      },
      "execution_count": null,
      "outputs": [
        {
          "output_type": "stream",
          "name": "stderr",
          "text": [
            "WARNING:fiona._env:Normalized/laundered field name: 'Description' to 'Descriptio'\n",
            "WARNING:fiona._env:Value '<html xmlns:fo=\"http://www.w3.org/1999/XSL/Format\" xmlns:msxsl=\"urn:schemas-microsoft-com:xslt\"> <head> <META http-equiv=\"Content-Type\" content=\"text/html\"> <meta http-equiv=\"content-type\" content=\"text/html; charset=UTF-8\"> </head> <body style=\"margin:0px 0px 0px 0px;overflow:auto;background:#FFFFFF;\"> <table style=\"font-family:Arial,Verdana,Times;font-size:12px;text-align:left;width:100%;border-collapse:collapse;padding:3px 3px 3px 3px\"> <tr style=\"text-align:center;font-weight:bold;background:#9CBCE2\"> <td></td> </tr> <tr> <td> <table style=\"font-family:Arial,Verdana,Times;font-size:12px;text-align:left;width:100%;border-spacing:0px; padding:3px 3px 3px 3px\"> <tr> <td>APN</td> <td>&lt;Null&gt;</td> </tr> <tr bgcolor=\"#D4E4F3\"> <td>APN_SORT</td> <td>&lt;Null&gt;</td> </tr> <tr> <td>BOOK</td> <td>&lt;Null&gt;</td> </tr> <tr bgcolor=\"#D4E4F3\"> <td>PAGE</td> <td>&lt;Null&gt;</td> </tr> <tr> <td>PARCEL</td> <td>&lt;Null&gt;</td> </tr> <tr bgcolor=\"#D4E4F3\"> <td>SUB_PARCEL</td> <td>&lt;Null&gt;</td> </tr> <tr> <td>CLCA_CATEGORY</td> <td>&lt;Null&gt;</td> </tr> <tr bgcolor=\"#D4E4F3\"> <td>COMMENTS</td> <td>&lt;Null&gt;</td> </tr> <tr> <td>DATE_CREATE</td> <td>&lt;Null&gt;</td> </tr> <tr bgcolor=\"#D4E4F3\"> <td>DATE_UPDATE</td> <td>&lt;Null&gt;</td> </tr> <tr> <td>EDITOR</td> <td>&lt;Null&gt;</td> </tr> <tr bgcolor=\"#D4E4F3\"> <td>FID_PARCELS</td> <td>&lt;Null&gt;</td> </tr> <tr> <td>CENTROID_X</td> <td>&lt;Null&gt;</td> </tr> <tr bgcolor=\"#D4E4F3\"> <td>CENTROID_Y</td> <td>&lt;Null&gt;</td> </tr> <tr> <td>SortParcel</td> <td>&lt;Null&gt;</td> </tr> <tr bgcolor=\"#D4E4F3\"> <td>PrintParcel</td> <td>&lt;Null&gt;</td> </tr> <tr> <td>TRAPrimary</td> <td>&lt;Null&gt;</td> </tr> <tr bgcolor=\"#D4E4F3\"> <td>TRASecondary</td> <td>&lt;Null&gt;</td> </tr> <tr> <td>SitusStreetNumber</td> <td>&lt;Null&gt;</td> </tr> <tr bgcolor=\"#D4E4F3\"> <td>SitusStreetName</td> <td>&lt;Null&gt;</td> </tr> <tr> <td>SitusUnit</td> <td>&lt;Null&gt;</td> </tr> <tr bgcolor=\"#D4E4F3\"> <td>SitusCity</td> <td>&lt;Null&gt;</td> </tr> <tr> <td>SitusZip</td> <td>&lt;Null&gt;</td> </tr> <tr bgcolor=\"#D4E4F3\"> <td>SitusZip_4</td> <td>&lt;Null&gt;</td> </tr> <tr> <td>Land</td> <td>&lt;Null&gt;</td> </tr> <tr bgcolor=\"#D4E4F3\"> <td>Imps</td> <td>&lt;Null&gt;</td> </tr> <tr> <td>CLCALand</td> <td>&lt;Null&gt;</td> </tr> <tr bgcolor=\"#D4E4F3\"> <td>CLCAImps</td> <td>&lt;Null&gt;</td> </tr> <tr> <td>HOEX</td> <td>&lt;Null&gt;</td> </tr> <tr bgcolor=\"#D4E4F3\"> <td>OTEX</td> <td>&lt;Null&gt;</td> </tr> <tr> <td>TotalNetValue</td> <td>&lt;Null&gt;</td> </tr> <tr bgcolor=\"#D4E4F3\"> <td>LatestDocument_Prefix</td> <td>&lt;Null&gt;</td> </tr> <tr> <td>LatestDocumentSeries</td> <td>&lt;Null&gt;</td> </tr> <tr bgcolor=\"#D4E4F3\"> <td>LatestDocumentDate</td> <td>&lt;Null&gt;</td> </tr> <tr> <td>MailingAddressStreet</td> <td>&lt;Null&gt;</td> </tr> <tr bgcolor=\"#D4E4F3\"> <td>MailingAddressUnit</td> <td>&lt;Null&gt;</td> </tr> <tr> <td>MailingAddressCityState</td> <td>&lt;Null&gt;</td> </tr> <tr bgcolor=\"#D4E4F3\"> <td>MailingAddressZip</td> <td>&lt;Null&gt;</td> </tr> <tr> <td>MailingAddressZip_4</td> <td>&lt;Null&gt;</td> </tr> <tr bgcolor=\"#D4E4F3\"> <td>UseCode</td> <td>&lt;Null&gt;</td> </tr> <tr> <td>EconUnit</td> <td>&lt;Null&gt;</td> </tr> <tr bgcolor=\"#D4E4F3\"> <td>EconomicUnit</td> <td>&lt;Null&gt;</td> </tr> <tr> <td>SitusAddress</td> <td>&lt;Null&gt;</td> </tr> <tr bgcolor=\"#D4E4F3\"> <td>MailingAddress</td> <td>&lt;Null&gt;</td> </tr> <tr> <td>BUFF_DIST</td> <td>50</td> </tr> <tr bgcolor=\"#D4E4F3\"> <td>ORIG_FID</td> <td>5</td> </tr> </table> </td> </tr> </table> </body><script type=\"text/javascript\"> function changeImage(attElement, nameElement) { document.getElementById('imageAttachment').src = attElement; document.getElementById('imageName').innerHTML = nameElement;} </script></html>' of field Descriptio has been truncated to 254 characters.  This warning will not be emitted any more for that layer.\n"
          ]
        }
      ]
    },
    {
      "cell_type": "code",
      "source": [
        "m = geemap.Map()\n",
        "m.addLayer(tassajara_perim_50ft, {}, \"perimeter\")\n",
        "m.centerObject(tassajara_perim_50ft, zoom=15)\n",
        "\n",
        "m.addLayer(fit,\n",
        "             {\"min\": -1, \"max\": 1, \"bands\": 'offset', \"palette\": [\"blue\",\"white\",\"green\"]},\n",
        "             \"offset\")\n",
        "m.addLayer(fit,\n",
        "             {\"min\": 0.1, \"max\": 0.1, \"bands\": 'scale', \"palette\": [\"orange\",\"white\",\"green\"]},\n",
        "             \"scale\")\n",
        "m.addLayer(fit, \n",
        "             {\"max\": 0, \"min\": [0.1, -0.1, 0.5], \"bands\": ['scale', 'scale', 'offset']},\n",
        "             \"fit\")\n",
        "\n",
        "m"
      ],
      "metadata": {
        "colab": {
          "base_uri": "https://localhost:8080/",
          "height": 621,
          "referenced_widgets": [
            "fc5711f1563c4b2eb03e16df136deffc",
            "0a4f03106df14602b8a4e822857dd1eb",
            "77777c242d974a07b8d284cb9039480f",
            "379ce30a29224c79b5b1aa62f71d0a28",
            "b354ee52252749ad8b50c36cc356b228",
            "1c1496eead8f466f94ed61a7b8a5119d",
            "4f6d232799254c7dbc3058c1872cd67c",
            "fe08cbcf156c46e2b9392893f556abb8",
            "ffb42375e3eb4897ba863fb14fed75eb",
            "76d275016cdb443da7fb6e7d232a16cb",
            "1e6c44adbb654248b58a77989abec3fd",
            "f8560fd486ef4131a8ea7c27e799ca5d",
            "0fafa0b223a14c289f21e75498b284ef",
            "f7c847d0a9a943c1951d3ed506f91bd9",
            "2f4d5ca556b84bc4a6e70e75c23beb59",
            "80e630ce1ffb42e3a20788b0b5948b43",
            "4f05237e6f084a82ac0f3e8cb4958b10",
            "dd536112032d47cdb09a24e774b6c66d",
            "2e8882e723ad42bd869732cd4f1d08a5",
            "9a95cb0ec5494ff7accb4020326dc57e",
            "ee917a6ff83c4db9ba3a31eb8f48921b",
            "6ceb8c080f7747c19570832c864afadf",
            "20e110377ac845cc93abe455eb5ee054",
            "1d8ef04c989b4cc3800862e9ff0fe3d4",
            "7e9aed33d266467dbbef69480753ce67",
            "4fa9a2ea8dec420cb1df744f2c645dcb",
            "f758125ea39d4fc4b8e38ab3d53a865c",
            "943fe576af6144cca71732ee2d646ff4",
            "3c562755886e439daa50ebd19c441f88"
          ]
        },
        "id": "H0-oIYO0JDOo",
        "outputId": "2e5edcf1-ba8a-4527-bd56-881b195d8c88"
      },
      "execution_count": null,
      "outputs": [
        {
          "output_type": "display_data",
          "data": {
            "text/plain": [
              "Map(center=[37.70714413892085, -121.87902337399693], controls=(WidgetControl(options=['position', 'transparent…"
            ],
            "application/vnd.jupyter.widget-view+json": {
              "version_major": 2,
              "version_minor": 0,
              "model_id": "fc5711f1563c4b2eb03e16df136deffc"
            }
          },
          "metadata": {
            "application/vnd.jupyter.widget-view+json": {
              "colab": {
                "custom_widget_manager": {
                  "url": "https://ssl.gstatic.com/colaboratory-static/widgets/colab-cdn-widget-manager/b3e629b1971e1542/manager.min.js"
                }
              }
            }
          }
        }
      ]
    },
    {
      "cell_type": "code",
      "source": [
        "fit.select(\"scale\").getDownloadURL({\n",
        "  'scale': 0.3,\n",
        "  'region': tassajara_perim.geometry(),\n",
        "  'format': 'GEO_TIFF',\n",
        "  'crs': 'EPSG:6318'\n",
        "})"
      ],
      "metadata": {
        "id": "D5qwMdS1Kc_8",
        "colab": {
          "base_uri": "https://localhost:8080/",
          "height": 53
        },
        "outputId": "9feecd6e-6509-4084-d783-8187e43de573"
      },
      "execution_count": null,
      "outputs": [
        {
          "output_type": "execute_result",
          "data": {
            "text/plain": [
              "'https://earthengine.googleapis.com/v1alpha/projects/earthengine-legacy/thumbnails/55e7bb5e7ec32655ae99fffc4a64f662-2ee544a39d2703566934ef6db1c3f2c1:getPixels'"
            ],
            "application/vnd.google.colaboratory.intrinsic+json": {
              "type": "string"
            }
          },
          "metadata": {},
          "execution_count": 16
        }
      ]
    },
    {
      "cell_type": "code",
      "source": [
        "fit.select(\"offset\").getDownloadURL({\n",
        "  'scale': 0.3,\n",
        "  'region': tassajara_perim.geometry(),\n",
        "  'format': 'GEO_TIFF',\n",
        "  'crs': 'EPSG:6318'\n",
        "})"
      ],
      "metadata": {
        "id": "oY7-8vHJLdjL",
        "colab": {
          "base_uri": "https://localhost:8080/",
          "height": 53
        },
        "outputId": "6e2a45e2-c239-4853-dc98-54491f92248d"
      },
      "execution_count": null,
      "outputs": [
        {
          "output_type": "execute_result",
          "data": {
            "text/plain": [
              "'https://earthengine.googleapis.com/v1alpha/projects/earthengine-legacy/thumbnails/29085436310e7b7e4f5178c7c9453a8f-ff57d3bb03984a044e8c3df7450472fa:getPixels'"
            ],
            "application/vnd.google.colaboratory.intrinsic+json": {
              "type": "string"
            }
          },
          "metadata": {},
          "execution_count": 17
        }
      ]
    },
    {
      "cell_type": "code",
      "source": [
        "histogramDictionary = fit.reduceRegion(**{\n",
        "  'reducer': ee.Reducer.histogram(30),\n",
        "  'geometry': tassajara_perim.geometry(),\n",
        "  'scale': 0.3,\n",
        "  'maxPixels': 1e19\n",
        "})\n",
        "# extract as client-side python dict\n",
        "histogram = histogramDictionary.getInfo()\n",
        "bands = list(histogram.keys())"
      ],
      "metadata": {
        "id": "g6fOYD78Lz4-"
      },
      "execution_count": null,
      "outputs": []
    },
    {
      "cell_type": "code",
      "source": [
        "hist_scale = pd.DataFrame(histogram['scale'])\n",
        "hist_scale"
      ],
      "metadata": {
        "id": "lR0VxVu6MWbw",
        "colab": {
          "base_uri": "https://localhost:8080/",
          "height": 895
        },
        "outputId": "9a9cddd6-cb07-4dd4-ff8f-1184825c982a"
      },
      "execution_count": null,
      "outputs": [
        {
          "output_type": "execute_result",
          "data": {
            "text/plain": [
              "    bucketMeans  bucketMin  bucketWidth      histogram\n",
              "0     -0.103512  -0.109375     0.007812       3.000000\n",
              "1     -0.096608  -0.109375     0.007812      39.000000\n",
              "2     -0.089255  -0.109375     0.007812     209.000000\n",
              "3     -0.082101  -0.109375     0.007812     256.000000\n",
              "4     -0.073693  -0.109375     0.007812     298.650980\n",
              "5     -0.065763  -0.109375     0.007812     896.733333\n",
              "6     -0.058314  -0.109375     0.007812    2310.780392\n",
              "7     -0.050382  -0.109375     0.007812    3942.023529\n",
              "8     -0.042487  -0.109375     0.007812    7850.615686\n",
              "9     -0.034784  -0.109375     0.007812   14068.050980\n",
              "10    -0.027006  -0.109375     0.007812   25023.341176\n",
              "11    -0.019000  -0.109375     0.007812   47918.345098\n",
              "12    -0.011082  -0.109375     0.007812  118823.211765\n",
              "13    -0.003435  -0.109375     0.007812  316272.200000\n",
              "14     0.003590  -0.109375     0.007812  321334.250980\n",
              "15     0.011415  -0.109375     0.007812  192211.403922\n",
              "16     0.019332  -0.109375     0.007812  127286.713725\n",
              "17     0.027135  -0.109375     0.007812   91149.160784\n",
              "18     0.034894  -0.109375     0.007812   64506.117647\n",
              "19     0.042642  -0.109375     0.007812   42440.341176\n",
              "20     0.050477  -0.109375     0.007812   24904.141176\n",
              "21     0.058108  -0.109375     0.007812   14199.721569\n",
              "22     0.065875  -0.109375     0.007812    7104.282353\n",
              "23     0.073644  -0.109375     0.007812    3040.631373\n",
              "24     0.081072  -0.109375     0.007812     795.250980\n",
              "25     0.087604  -0.109375     0.007812      88.250980\n",
              "26     0.097513  -0.109375     0.007812      15.000000"
            ],
            "text/html": [
              "\n",
              "  <div id=\"df-acacd335-4d3f-4270-af71-e5cc35cd37cf\">\n",
              "    <div class=\"colab-df-container\">\n",
              "      <div>\n",
              "<style scoped>\n",
              "    .dataframe tbody tr th:only-of-type {\n",
              "        vertical-align: middle;\n",
              "    }\n",
              "\n",
              "    .dataframe tbody tr th {\n",
              "        vertical-align: top;\n",
              "    }\n",
              "\n",
              "    .dataframe thead th {\n",
              "        text-align: right;\n",
              "    }\n",
              "</style>\n",
              "<table border=\"1\" class=\"dataframe\">\n",
              "  <thead>\n",
              "    <tr style=\"text-align: right;\">\n",
              "      <th></th>\n",
              "      <th>bucketMeans</th>\n",
              "      <th>bucketMin</th>\n",
              "      <th>bucketWidth</th>\n",
              "      <th>histogram</th>\n",
              "    </tr>\n",
              "  </thead>\n",
              "  <tbody>\n",
              "    <tr>\n",
              "      <th>0</th>\n",
              "      <td>-0.103512</td>\n",
              "      <td>-0.109375</td>\n",
              "      <td>0.007812</td>\n",
              "      <td>3.000000</td>\n",
              "    </tr>\n",
              "    <tr>\n",
              "      <th>1</th>\n",
              "      <td>-0.096608</td>\n",
              "      <td>-0.109375</td>\n",
              "      <td>0.007812</td>\n",
              "      <td>39.000000</td>\n",
              "    </tr>\n",
              "    <tr>\n",
              "      <th>2</th>\n",
              "      <td>-0.089255</td>\n",
              "      <td>-0.109375</td>\n",
              "      <td>0.007812</td>\n",
              "      <td>209.000000</td>\n",
              "    </tr>\n",
              "    <tr>\n",
              "      <th>3</th>\n",
              "      <td>-0.082101</td>\n",
              "      <td>-0.109375</td>\n",
              "      <td>0.007812</td>\n",
              "      <td>256.000000</td>\n",
              "    </tr>\n",
              "    <tr>\n",
              "      <th>4</th>\n",
              "      <td>-0.073693</td>\n",
              "      <td>-0.109375</td>\n",
              "      <td>0.007812</td>\n",
              "      <td>298.650980</td>\n",
              "    </tr>\n",
              "    <tr>\n",
              "      <th>5</th>\n",
              "      <td>-0.065763</td>\n",
              "      <td>-0.109375</td>\n",
              "      <td>0.007812</td>\n",
              "      <td>896.733333</td>\n",
              "    </tr>\n",
              "    <tr>\n",
              "      <th>6</th>\n",
              "      <td>-0.058314</td>\n",
              "      <td>-0.109375</td>\n",
              "      <td>0.007812</td>\n",
              "      <td>2310.780392</td>\n",
              "    </tr>\n",
              "    <tr>\n",
              "      <th>7</th>\n",
              "      <td>-0.050382</td>\n",
              "      <td>-0.109375</td>\n",
              "      <td>0.007812</td>\n",
              "      <td>3942.023529</td>\n",
              "    </tr>\n",
              "    <tr>\n",
              "      <th>8</th>\n",
              "      <td>-0.042487</td>\n",
              "      <td>-0.109375</td>\n",
              "      <td>0.007812</td>\n",
              "      <td>7850.615686</td>\n",
              "    </tr>\n",
              "    <tr>\n",
              "      <th>9</th>\n",
              "      <td>-0.034784</td>\n",
              "      <td>-0.109375</td>\n",
              "      <td>0.007812</td>\n",
              "      <td>14068.050980</td>\n",
              "    </tr>\n",
              "    <tr>\n",
              "      <th>10</th>\n",
              "      <td>-0.027006</td>\n",
              "      <td>-0.109375</td>\n",
              "      <td>0.007812</td>\n",
              "      <td>25023.341176</td>\n",
              "    </tr>\n",
              "    <tr>\n",
              "      <th>11</th>\n",
              "      <td>-0.019000</td>\n",
              "      <td>-0.109375</td>\n",
              "      <td>0.007812</td>\n",
              "      <td>47918.345098</td>\n",
              "    </tr>\n",
              "    <tr>\n",
              "      <th>12</th>\n",
              "      <td>-0.011082</td>\n",
              "      <td>-0.109375</td>\n",
              "      <td>0.007812</td>\n",
              "      <td>118823.211765</td>\n",
              "    </tr>\n",
              "    <tr>\n",
              "      <th>13</th>\n",
              "      <td>-0.003435</td>\n",
              "      <td>-0.109375</td>\n",
              "      <td>0.007812</td>\n",
              "      <td>316272.200000</td>\n",
              "    </tr>\n",
              "    <tr>\n",
              "      <th>14</th>\n",
              "      <td>0.003590</td>\n",
              "      <td>-0.109375</td>\n",
              "      <td>0.007812</td>\n",
              "      <td>321334.250980</td>\n",
              "    </tr>\n",
              "    <tr>\n",
              "      <th>15</th>\n",
              "      <td>0.011415</td>\n",
              "      <td>-0.109375</td>\n",
              "      <td>0.007812</td>\n",
              "      <td>192211.403922</td>\n",
              "    </tr>\n",
              "    <tr>\n",
              "      <th>16</th>\n",
              "      <td>0.019332</td>\n",
              "      <td>-0.109375</td>\n",
              "      <td>0.007812</td>\n",
              "      <td>127286.713725</td>\n",
              "    </tr>\n",
              "    <tr>\n",
              "      <th>17</th>\n",
              "      <td>0.027135</td>\n",
              "      <td>-0.109375</td>\n",
              "      <td>0.007812</td>\n",
              "      <td>91149.160784</td>\n",
              "    </tr>\n",
              "    <tr>\n",
              "      <th>18</th>\n",
              "      <td>0.034894</td>\n",
              "      <td>-0.109375</td>\n",
              "      <td>0.007812</td>\n",
              "      <td>64506.117647</td>\n",
              "    </tr>\n",
              "    <tr>\n",
              "      <th>19</th>\n",
              "      <td>0.042642</td>\n",
              "      <td>-0.109375</td>\n",
              "      <td>0.007812</td>\n",
              "      <td>42440.341176</td>\n",
              "    </tr>\n",
              "    <tr>\n",
              "      <th>20</th>\n",
              "      <td>0.050477</td>\n",
              "      <td>-0.109375</td>\n",
              "      <td>0.007812</td>\n",
              "      <td>24904.141176</td>\n",
              "    </tr>\n",
              "    <tr>\n",
              "      <th>21</th>\n",
              "      <td>0.058108</td>\n",
              "      <td>-0.109375</td>\n",
              "      <td>0.007812</td>\n",
              "      <td>14199.721569</td>\n",
              "    </tr>\n",
              "    <tr>\n",
              "      <th>22</th>\n",
              "      <td>0.065875</td>\n",
              "      <td>-0.109375</td>\n",
              "      <td>0.007812</td>\n",
              "      <td>7104.282353</td>\n",
              "    </tr>\n",
              "    <tr>\n",
              "      <th>23</th>\n",
              "      <td>0.073644</td>\n",
              "      <td>-0.109375</td>\n",
              "      <td>0.007812</td>\n",
              "      <td>3040.631373</td>\n",
              "    </tr>\n",
              "    <tr>\n",
              "      <th>24</th>\n",
              "      <td>0.081072</td>\n",
              "      <td>-0.109375</td>\n",
              "      <td>0.007812</td>\n",
              "      <td>795.250980</td>\n",
              "    </tr>\n",
              "    <tr>\n",
              "      <th>25</th>\n",
              "      <td>0.087604</td>\n",
              "      <td>-0.109375</td>\n",
              "      <td>0.007812</td>\n",
              "      <td>88.250980</td>\n",
              "    </tr>\n",
              "    <tr>\n",
              "      <th>26</th>\n",
              "      <td>0.097513</td>\n",
              "      <td>-0.109375</td>\n",
              "      <td>0.007812</td>\n",
              "      <td>15.000000</td>\n",
              "    </tr>\n",
              "  </tbody>\n",
              "</table>\n",
              "</div>\n",
              "      <button class=\"colab-df-convert\" onclick=\"convertToInteractive('df-acacd335-4d3f-4270-af71-e5cc35cd37cf')\"\n",
              "              title=\"Convert this dataframe to an interactive table.\"\n",
              "              style=\"display:none;\">\n",
              "        \n",
              "  <svg xmlns=\"http://www.w3.org/2000/svg\" height=\"24px\"viewBox=\"0 0 24 24\"\n",
              "       width=\"24px\">\n",
              "    <path d=\"M0 0h24v24H0V0z\" fill=\"none\"/>\n",
              "    <path d=\"M18.56 5.44l.94 2.06.94-2.06 2.06-.94-2.06-.94-.94-2.06-.94 2.06-2.06.94zm-11 1L8.5 8.5l.94-2.06 2.06-.94-2.06-.94L8.5 2.5l-.94 2.06-2.06.94zm10 10l.94 2.06.94-2.06 2.06-.94-2.06-.94-.94-2.06-.94 2.06-2.06.94z\"/><path d=\"M17.41 7.96l-1.37-1.37c-.4-.4-.92-.59-1.43-.59-.52 0-1.04.2-1.43.59L10.3 9.45l-7.72 7.72c-.78.78-.78 2.05 0 2.83L4 21.41c.39.39.9.59 1.41.59.51 0 1.02-.2 1.41-.59l7.78-7.78 2.81-2.81c.8-.78.8-2.07 0-2.86zM5.41 20L4 18.59l7.72-7.72 1.47 1.35L5.41 20z\"/>\n",
              "  </svg>\n",
              "      </button>\n",
              "      \n",
              "  <style>\n",
              "    .colab-df-container {\n",
              "      display:flex;\n",
              "      flex-wrap:wrap;\n",
              "      gap: 12px;\n",
              "    }\n",
              "\n",
              "    .colab-df-convert {\n",
              "      background-color: #E8F0FE;\n",
              "      border: none;\n",
              "      border-radius: 50%;\n",
              "      cursor: pointer;\n",
              "      display: none;\n",
              "      fill: #1967D2;\n",
              "      height: 32px;\n",
              "      padding: 0 0 0 0;\n",
              "      width: 32px;\n",
              "    }\n",
              "\n",
              "    .colab-df-convert:hover {\n",
              "      background-color: #E2EBFA;\n",
              "      box-shadow: 0px 1px 2px rgba(60, 64, 67, 0.3), 0px 1px 3px 1px rgba(60, 64, 67, 0.15);\n",
              "      fill: #174EA6;\n",
              "    }\n",
              "\n",
              "    [theme=dark] .colab-df-convert {\n",
              "      background-color: #3B4455;\n",
              "      fill: #D2E3FC;\n",
              "    }\n",
              "\n",
              "    [theme=dark] .colab-df-convert:hover {\n",
              "      background-color: #434B5C;\n",
              "      box-shadow: 0px 1px 3px 1px rgba(0, 0, 0, 0.15);\n",
              "      filter: drop-shadow(0px 1px 2px rgba(0, 0, 0, 0.3));\n",
              "      fill: #FFFFFF;\n",
              "    }\n",
              "  </style>\n",
              "\n",
              "      <script>\n",
              "        const buttonEl =\n",
              "          document.querySelector('#df-acacd335-4d3f-4270-af71-e5cc35cd37cf button.colab-df-convert');\n",
              "        buttonEl.style.display =\n",
              "          google.colab.kernel.accessAllowed ? 'block' : 'none';\n",
              "\n",
              "        async function convertToInteractive(key) {\n",
              "          const element = document.querySelector('#df-acacd335-4d3f-4270-af71-e5cc35cd37cf');\n",
              "          const dataTable =\n",
              "            await google.colab.kernel.invokeFunction('convertToInteractive',\n",
              "                                                     [key], {});\n",
              "          if (!dataTable) return;\n",
              "\n",
              "          const docLinkHtml = 'Like what you see? Visit the ' +\n",
              "            '<a target=\"_blank\" href=https://colab.research.google.com/notebooks/data_table.ipynb>data table notebook</a>'\n",
              "            + ' to learn more about interactive tables.';\n",
              "          element.innerHTML = '';\n",
              "          dataTable['output_type'] = 'display_data';\n",
              "          await google.colab.output.renderOutput(dataTable, element);\n",
              "          const docLink = document.createElement('div');\n",
              "          docLink.innerHTML = docLinkHtml;\n",
              "          element.appendChild(docLink);\n",
              "        }\n",
              "      </script>\n",
              "    </div>\n",
              "  </div>\n",
              "  "
            ]
          },
          "metadata": {},
          "execution_count": 19
        }
      ]
    },
    {
      "cell_type": "code",
      "source": [
        "fig, ax = plt.subplots()\n",
        "ax = sns.barplot(data=hist_scale, x=\"bucketMeans\", y=\"histogram\") #, width=np.mean(hist_scale[\"bucketWidth\"]))\n",
        "plt.show()"
      ],
      "metadata": {
        "id": "s1gIFLBsN9d_",
        "colab": {
          "base_uri": "https://localhost:8080/",
          "height": 279
        },
        "outputId": "cf00339a-e7d6-49bb-8d6b-724c63a478d5"
      },
      "execution_count": null,
      "outputs": [
        {
          "output_type": "display_data",
          "data": {
            "text/plain": [
              "<Figure size 432x288 with 1 Axes>"
            ],
            "image/png": "[encoded data removed]"
          },
          "metadata": {
            "needs_background": "light"
          }
        }
      ]
    },
    {
      "cell_type": "code",
      "source": [
        "np.mean(hist_scale[\"bucketWidth\"])"
      ],
      "metadata": {
        "id": "kbHIgMQNOXMF",
        "colab": {
          "base_uri": "https://localhost:8080/"
        },
        "outputId": "857fd9c2-24c5-4dc0-bc3d-10953c497013"
      },
      "execution_count": null,
      "outputs": [
        {
          "output_type": "execute_result",
          "data": {
            "text/plain": [
              "0.0078125"
            ]
          },
          "metadata": {},
          "execution_count": 21
        }
      ]
    },
    {
      "cell_type": "code",
      "source": [
        "# to do: import the nDSM and crosstabulate\n",
        "#!wget https://github.com/skylerlewis/tassajara/raw/main/data/raster/lidar2021_REM.tif\n"
      ],
      "metadata": {
        "id": "YWIUbHaQUzCw",
        "colab": {
          "base_uri": "https://localhost:8080/"
        },
        "outputId": "1ea2d3fc-bda1-42f1-c03d-99bbf5759a1e"
      },
      "execution_count": null,
      "outputs": [
        {
          "output_type": "stream",
          "name": "stdout",
          "text": [
            "--2023-03-09 03:01:15--  https://github.com/skylerlewis/tassajara/raw/main/data/raster/lidar2021_REM.tif\n",
            "Resolving github.com (github.com)... 140.82.114.4\n",
            "Connecting to github.com (github.com)|140.82.114.4|:443... connected.\n",
            "HTTP request sent, awaiting response... 302 Found\n",
            "Location: https://raw.githubusercontent.com/skylerlewis/tassajara/main/data/raster/lidar2021_REM.tif [following]\n",
            "--2023-03-09 03:01:16--  https://raw.githubusercontent.com/skylerlewis/tassajara/main/data/raster/lidar2021_REM.tif\n",
            "Resolving raw.githubusercontent.com (raw.githubusercontent.com)... 185.199.109.133, 185.199.110.133, 185.199.111.133, ...\n",
            "Connecting to raw.githubusercontent.com (raw.githubusercontent.com)|185.199.109.133|:443... connected.\n",
            "HTTP request sent, awaiting response... 200 OK\n",
            "Length: 16188892 (15M) [application/octet-stream]\n",
            "Saving to: ‘lidar2021_REM.tif.2’\n",
            "\n",
            "lidar2021_REM.tif.2 100%[===================>]  15.44M  --.-KB/s    in 0.1s    \n",
            "\n",
            "2023-03-09 03:01:16 (105 MB/s) - ‘lidar2021_REM.tif.2’ saved [16188892/16188892]\n",
            "\n"
          ]
        }
      ]
    }
  ]
}